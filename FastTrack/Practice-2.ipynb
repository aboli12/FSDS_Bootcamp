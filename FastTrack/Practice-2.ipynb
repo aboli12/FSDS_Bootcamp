{
 "cells": [
  {
   "cell_type": "code",
   "execution_count": 1,
   "id": "d3310f02",
   "metadata": {},
   "outputs": [],
   "source": [
    "a = \"abolishelke\""
   ]
  },
  {
   "cell_type": "code",
   "execution_count": 2,
   "id": "23e54068",
   "metadata": {},
   "outputs": [
    {
     "data": {
      "text/plain": [
       "'a'"
      ]
     },
     "execution_count": 2,
     "metadata": {},
     "output_type": "execute_result"
    }
   ],
   "source": [
    "a[0]"
   ]
  },
  {
   "cell_type": "code",
   "execution_count": 3,
   "id": "939d89fb",
   "metadata": {},
   "outputs": [
    {
     "data": {
      "text/plain": [
       "'e'"
      ]
     },
     "execution_count": 3,
     "metadata": {},
     "output_type": "execute_result"
    }
   ],
   "source": [
    "a[-1]"
   ]
  },
  {
   "cell_type": "code",
   "execution_count": 4,
   "id": "92d5f5d3",
   "metadata": {},
   "outputs": [
    {
     "data": {
      "text/plain": [
       "'bol'"
      ]
     },
     "execution_count": 4,
     "metadata": {},
     "output_type": "execute_result"
    }
   ],
   "source": [
    "a[1:4]"
   ]
  },
  {
   "cell_type": "code",
   "execution_count": 5,
   "id": "5d439ad3",
   "metadata": {},
   "outputs": [
    {
     "data": {
      "text/plain": [
       "''"
      ]
     },
     "execution_count": 5,
     "metadata": {},
     "output_type": "execute_result"
    }
   ],
   "source": [
    "a[-1:5]"
   ]
  },
  {
   "cell_type": "code",
   "execution_count": 6,
   "id": "20631425",
   "metadata": {},
   "outputs": [
    {
     "data": {
      "text/plain": [
       "'aboli'"
      ]
     },
     "execution_count": 6,
     "metadata": {},
     "output_type": "execute_result"
    }
   ],
   "source": [
    "a[0:5:1]"
   ]
  },
  {
   "cell_type": "code",
   "execution_count": 7,
   "id": "d1ce0079",
   "metadata": {},
   "outputs": [
    {
     "data": {
      "text/plain": [
       "'aoi'"
      ]
     },
     "execution_count": 7,
     "metadata": {},
     "output_type": "execute_result"
    }
   ],
   "source": [
    "a[0:5:2]"
   ]
  },
  {
   "cell_type": "code",
   "execution_count": 8,
   "id": "25b1a43e",
   "metadata": {},
   "outputs": [
    {
     "data": {
      "text/plain": [
       "'abolishelke'"
      ]
     },
     "execution_count": 8,
     "metadata": {},
     "output_type": "execute_result"
    }
   ],
   "source": [
    "a[0:100]"
   ]
  },
  {
   "cell_type": "code",
   "execution_count": 9,
   "id": "dce72efd",
   "metadata": {},
   "outputs": [
    {
     "data": {
      "text/plain": [
       "'ekl'"
      ]
     },
     "execution_count": 9,
     "metadata": {},
     "output_type": "execute_result"
    }
   ],
   "source": [
    "a[-1:-4:-1]"
   ]
  },
  {
   "cell_type": "code",
   "execution_count": 10,
   "id": "35824cc8",
   "metadata": {},
   "outputs": [
    {
     "data": {
      "text/plain": [
       "'elhioa'"
      ]
     },
     "execution_count": 10,
     "metadata": {},
     "output_type": "execute_result"
    }
   ],
   "source": [
    "a[-1:-20:-2]"
   ]
  },
  {
   "cell_type": "code",
   "execution_count": 11,
   "id": "0824a548",
   "metadata": {},
   "outputs": [
    {
     "data": {
      "text/plain": [
       "'abolishelke'"
      ]
     },
     "execution_count": 11,
     "metadata": {},
     "output_type": "execute_result"
    }
   ],
   "source": [
    "a[::]"
   ]
  },
  {
   "cell_type": "code",
   "execution_count": 14,
   "id": "030af50a",
   "metadata": {},
   "outputs": [
    {
     "data": {
      "text/plain": [
       "'a'"
      ]
     },
     "execution_count": 14,
     "metadata": {},
     "output_type": "execute_result"
    }
   ],
   "source": [
    "a[0:-29:-1]"
   ]
  },
  {
   "cell_type": "code",
   "execution_count": 15,
   "id": "ed881937",
   "metadata": {},
   "outputs": [
    {
     "data": {
      "text/plain": [
       "'abol'"
      ]
     },
     "execution_count": 15,
     "metadata": {},
     "output_type": "execute_result"
    }
   ],
   "source": [
    "a[:4]"
   ]
  },
  {
   "cell_type": "code",
   "execution_count": 16,
   "id": "662dda6e",
   "metadata": {},
   "outputs": [
    {
     "data": {
      "text/plain": [
       "'ke'"
      ]
     },
     "execution_count": 16,
     "metadata": {},
     "output_type": "execute_result"
    }
   ],
   "source": [
    "a[-2:]"
   ]
  },
  {
   "cell_type": "code",
   "execution_count": 17,
   "id": "13c9d7c0",
   "metadata": {},
   "outputs": [
    {
     "data": {
      "text/plain": [
       "'eklehsiloba'"
      ]
     },
     "execution_count": 17,
     "metadata": {},
     "output_type": "execute_result"
    }
   ],
   "source": [
    "a[::-1]"
   ]
  },
  {
   "cell_type": "code",
   "execution_count": 18,
   "id": "5d2bf462",
   "metadata": {},
   "outputs": [
    {
     "data": {
      "text/plain": [
       "'eklehsiloba'"
      ]
     },
     "execution_count": 18,
     "metadata": {},
     "output_type": "execute_result"
    }
   ],
   "source": [
    "a[-1::-1]"
   ]
  },
  {
   "cell_type": "code",
   "execution_count": 25,
   "id": "530762bb",
   "metadata": {},
   "outputs": [
    {
     "data": {
      "text/plain": [
       "'aboliaboliaboliaboliaboliaboliaboliaboliaboliaboliaboliaboliaboliaboliaboliaboliaboliaboliaboliaboliaboliaboliaboliaboliaboliaboliaboliaboliaboliaboliaboliaboliaboliaboliaboliaboliaboliaboliaboliaboliaboliaboliaboliaboliaboliaboliaboliaboliaboliaboliaboliaboliaboliaboliaboliaboliaboliaboliaboliaboliaboliaboliaboliaboliaboliaboliaboliaboliaboliaboliaboliaboliaboliaboliaboliaboliaboliaboliaboliaboliaboliaboliaboliaboliaboliaboliaboliaboliaboliaboliaboliaboliaboliaboliaboliaboliaboliaboliaboliaboli'"
      ]
     },
     "execution_count": 25,
     "metadata": {},
     "output_type": "execute_result"
    }
   ],
   "source": [
    "\"aboli\"*100"
   ]
  },
  {
   "cell_type": "code",
   "execution_count": 20,
   "id": "c4f738ad",
   "metadata": {},
   "outputs": [
    {
     "data": {
      "text/plain": [
       "'Abolishelke'"
      ]
     },
     "execution_count": 20,
     "metadata": {},
     "output_type": "execute_result"
    }
   ],
   "source": [
    "a.capitalize()"
   ]
  },
  {
   "cell_type": "code",
   "execution_count": 22,
   "id": "fe307083",
   "metadata": {},
   "outputs": [
    {
     "data": {
      "text/plain": [
       "'Abolishelke'"
      ]
     },
     "execution_count": 22,
     "metadata": {},
     "output_type": "execute_result"
    }
   ],
   "source": [
    "a.title()"
   ]
  },
  {
   "cell_type": "code",
   "execution_count": 24,
   "id": "4810e60d",
   "metadata": {},
   "outputs": [
    {
     "data": {
      "text/plain": [
       "'Aboli shelke'"
      ]
     },
     "execution_count": 24,
     "metadata": {},
     "output_type": "execute_result"
    }
   ],
   "source": [
    "\"aboli shelke\".capitalize()"
   ]
  },
  {
   "cell_type": "code",
   "execution_count": 27,
   "id": "1500f2f5",
   "metadata": {},
   "outputs": [
    {
     "data": {
      "text/plain": [
       "-1"
      ]
     },
     "execution_count": 27,
     "metadata": {},
     "output_type": "execute_result"
    }
   ],
   "source": [
    "a.find(\"m\")"
   ]
  },
  {
   "cell_type": "code",
   "execution_count": 28,
   "id": "316c70f0",
   "metadata": {},
   "outputs": [
    {
     "data": {
      "text/plain": [
       "1"
      ]
     },
     "execution_count": 28,
     "metadata": {},
     "output_type": "execute_result"
    }
   ],
   "source": [
    "a.count('a')"
   ]
  },
  {
   "cell_type": "code",
   "execution_count": 1,
   "id": "0e27a656",
   "metadata": {},
   "outputs": [],
   "source": [
    "c = [45, 58, 45]"
   ]
  },
  {
   "cell_type": "code",
   "execution_count": 2,
   "id": "0aaed2ae",
   "metadata": {},
   "outputs": [
    {
     "data": {
      "text/plain": [
       "2"
      ]
     },
     "execution_count": 2,
     "metadata": {},
     "output_type": "execute_result"
    }
   ],
   "source": [
    "c.count(45)"
   ]
  },
  {
   "cell_type": "code",
   "execution_count": 3,
   "id": "30c00294",
   "metadata": {},
   "outputs": [],
   "source": [
    "c.append([\"sgg\", 'gfg'])"
   ]
  },
  {
   "cell_type": "code",
   "execution_count": 4,
   "id": "d8ba8eeb",
   "metadata": {},
   "outputs": [
    {
     "data": {
      "text/plain": [
       "[45, 58, 45, ['sgg', 'gfg']]"
      ]
     },
     "execution_count": 4,
     "metadata": {},
     "output_type": "execute_result"
    }
   ],
   "source": [
    "c = "
   ]
  },
  {
   "cell_type": "code",
   "execution_count": 11,
   "id": "90a70788",
   "metadata": {},
   "outputs": [],
   "source": [
    "c = [45, 58, 45, ['sgg', 'gfg']]"
   ]
  },
  {
   "cell_type": "code",
   "execution_count": 12,
   "id": "c8abbe59",
   "metadata": {},
   "outputs": [],
   "source": [
    "c.extend([943, \"eutu\"])"
   ]
  },
  {
   "cell_type": "code",
   "execution_count": 13,
   "id": "1dd5888c",
   "metadata": {},
   "outputs": [
    {
     "data": {
      "text/plain": [
       "[45, 58, 45, ['sgg', 'gfg'], 943, 'eutu']"
      ]
     },
     "execution_count": 13,
     "metadata": {},
     "output_type": "execute_result"
    }
   ],
   "source": [
    "c"
   ]
  },
  {
   "cell_type": "code",
   "execution_count": 16,
   "id": "4d4729e9",
   "metadata": {},
   "outputs": [],
   "source": [
    "c.extend({\"kkrkrk\", 89, 8384})"
   ]
  },
  {
   "cell_type": "code",
   "execution_count": 17,
   "id": "9746ec72",
   "metadata": {},
   "outputs": [
    {
     "data": {
      "text/plain": [
       "[45,\n",
       " 58,\n",
       " 45,\n",
       " ['sgg', 'gfg'],\n",
       " 943,\n",
       " 'eutu',\n",
       " 'kkrkrk',\n",
       " 89,\n",
       " 8384,\n",
       " 8384,\n",
       " 89,\n",
       " 'kkrkrk']"
      ]
     },
     "execution_count": 17,
     "metadata": {},
     "output_type": "execute_result"
    }
   ],
   "source": [
    "c"
   ]
  },
  {
   "cell_type": "code",
   "execution_count": null,
   "id": "f3d85c78",
   "metadata": {},
   "outputs": [],
   "source": []
  }
 ],
 "metadata": {
  "kernelspec": {
   "display_name": "Python 3 (ipykernel)",
   "language": "python",
   "name": "python3"
  },
  "language_info": {
   "codemirror_mode": {
    "name": "ipython",
    "version": 3
   },
   "file_extension": ".py",
   "mimetype": "text/x-python",
   "name": "python",
   "nbconvert_exporter": "python",
   "pygments_lexer": "ipython3",
   "version": "3.9.12"
  }
 },
 "nbformat": 4,
 "nbformat_minor": 5
}

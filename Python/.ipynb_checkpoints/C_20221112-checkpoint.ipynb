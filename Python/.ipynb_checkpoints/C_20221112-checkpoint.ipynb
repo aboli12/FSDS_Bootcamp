{
 "cells": [
  {
   "cell_type": "code",
   "execution_count": 1,
   "id": "06336d82",
   "metadata": {},
   "outputs": [],
   "source": [
    "def test3(*args):\n",
    "    return args"
   ]
  },
  {
   "cell_type": "code",
   "execution_count": 2,
   "id": "ab10846b",
   "metadata": {},
   "outputs": [
    {
     "data": {
      "text/plain": [
       "(3, 5, 6, 7, 7)"
      ]
     },
     "execution_count": 2,
     "metadata": {},
     "output_type": "execute_result"
    }
   ],
   "source": [
    "test3(3,5,6,7,7)"
   ]
  },
  {
   "cell_type": "code",
   "execution_count": 3,
   "id": "721e607e",
   "metadata": {},
   "outputs": [
    {
     "data": {
      "text/plain": [
       "(8, 9)"
      ]
     },
     "execution_count": 3,
     "metadata": {},
     "output_type": "execute_result"
    }
   ],
   "source": [
    "test3(8,9)"
   ]
  },
  {
   "cell_type": "code",
   "execution_count": 4,
   "id": "a6b40703",
   "metadata": {},
   "outputs": [
    {
     "data": {
      "text/plain": [
       "tuple"
      ]
     },
     "execution_count": 4,
     "metadata": {},
     "output_type": "execute_result"
    }
   ],
   "source": [
    "type(test3(8,34,54))"
   ]
  },
  {
   "cell_type": "code",
   "execution_count": 5,
   "id": "00ae9579",
   "metadata": {},
   "outputs": [],
   "source": [
    "def test4(*args):\n",
    "    return list(args)"
   ]
  },
  {
   "cell_type": "code",
   "execution_count": 6,
   "id": "0bcd6850",
   "metadata": {},
   "outputs": [
    {
     "data": {
      "text/plain": [
       "[6, 9, 4]"
      ]
     },
     "execution_count": 6,
     "metadata": {},
     "output_type": "execute_result"
    }
   ],
   "source": [
    "test4(6,9,4)"
   ]
  },
  {
   "cell_type": "code",
   "execution_count": 7,
   "id": "40be8c15",
   "metadata": {},
   "outputs": [
    {
     "data": {
      "text/plain": [
       "[(8, 3, 3), [9.0, 94]]"
      ]
     },
     "execution_count": 7,
     "metadata": {},
     "output_type": "execute_result"
    }
   ],
   "source": [
    "test4((8,3,3),[9.0,94])"
   ]
  },
  {
   "cell_type": "code",
   "execution_count": 13,
   "id": "4a5d468e",
   "metadata": {},
   "outputs": [],
   "source": [
    "def test5(*args):\n",
    "    l = []\n",
    "    for i in args:\n",
    "        l.append(i)\n",
    "    return l\n"
   ]
  },
  {
   "cell_type": "code",
   "execution_count": 14,
   "id": "2f217a2b",
   "metadata": {},
   "outputs": [
    {
     "data": {
      "text/plain": [
       "[(8, 6, 3), [9.0, 94]]"
      ]
     },
     "execution_count": 14,
     "metadata": {},
     "output_type": "execute_result"
    }
   ],
   "source": [
    "test5((8,6,3),[9.0,94])"
   ]
  },
  {
   "cell_type": "code",
   "execution_count": 15,
   "id": "5b13d770",
   "metadata": {},
   "outputs": [
    {
     "data": {
      "text/plain": [
       "[45, 67, 90]"
      ]
     },
     "execution_count": 15,
     "metadata": {},
     "output_type": "execute_result"
    }
   ],
   "source": [
    "test5(45,67,90)"
   ]
  },
  {
   "cell_type": "code",
   "execution_count": 16,
   "id": "d66d5d78",
   "metadata": {},
   "outputs": [],
   "source": [
    "def test6(*sudh):\n",
    "    return list(sudh)"
   ]
  },
  {
   "cell_type": "code",
   "execution_count": 17,
   "id": "97cdcdc8",
   "metadata": {},
   "outputs": [
    {
     "data": {
      "text/plain": [
       "[7, 6]"
      ]
     },
     "execution_count": 17,
     "metadata": {},
     "output_type": "execute_result"
    }
   ],
   "source": [
    "test6(7,6)"
   ]
  },
  {
   "cell_type": "code",
   "execution_count": 18,
   "id": "bee9d6f0",
   "metadata": {},
   "outputs": [],
   "source": [
    "d2 = {\"key1\" : \"sudh\", \"key2\" : [4,4,5]}"
   ]
  },
  {
   "cell_type": "code",
   "execution_count": 19,
   "id": "d9a93d7b",
   "metadata": {},
   "outputs": [
    {
     "data": {
      "text/plain": [
       "{'key1': 'sudh', 'key2': [4, 4, 5]}"
      ]
     },
     "execution_count": 19,
     "metadata": {},
     "output_type": "execute_result"
    }
   ],
   "source": [
    "d2"
   ]
  },
  {
   "cell_type": "code",
   "execution_count": 20,
   "id": "bffe5345",
   "metadata": {},
   "outputs": [
    {
     "data": {
      "text/plain": [
       "dict"
      ]
     },
     "execution_count": 20,
     "metadata": {},
     "output_type": "execute_result"
    }
   ],
   "source": [
    "type(d2)"
   ]
  },
  {
   "cell_type": "code",
   "execution_count": 21,
   "id": "6038e1a0",
   "metadata": {},
   "outputs": [],
   "source": [
    "d3 = {\"name\": \"sudhanshu\", \"org\" : \"ineuron\", \"name\" : \"sudh\"}"
   ]
  },
  {
   "cell_type": "code",
   "execution_count": 22,
   "id": "9d6ed9da",
   "metadata": {},
   "outputs": [
    {
     "data": {
      "text/plain": [
       "{'name': 'sudh', 'org': 'ineuron'}"
      ]
     },
     "execution_count": 22,
     "metadata": {},
     "output_type": "execute_result"
    }
   ],
   "source": [
    "d3"
   ]
  },
  {
   "cell_type": "code",
   "execution_count": 23,
   "id": "4f893911",
   "metadata": {},
   "outputs": [
    {
     "ename": "KeyError",
     "evalue": "2",
     "output_type": "error",
     "traceback": [
      "\u001b[1;31m---------------------------------------------------------------------------\u001b[0m",
      "\u001b[1;31mKeyError\u001b[0m                                  Traceback (most recent call last)",
      "Input \u001b[1;32mIn [23]\u001b[0m, in \u001b[0;36m<cell line: 1>\u001b[1;34m()\u001b[0m\n\u001b[1;32m----> 1\u001b[0m \u001b[43md3\u001b[49m\u001b[43m[\u001b[49m\u001b[38;5;241;43m2\u001b[39;49m\u001b[43m]\u001b[49m\n",
      "\u001b[1;31mKeyError\u001b[0m: 2"
     ]
    }
   ],
   "source": [
    "d3[2]"
   ]
  },
  {
   "cell_type": "code",
   "execution_count": 24,
   "id": "00a13372",
   "metadata": {},
   "outputs": [
    {
     "data": {
      "text/plain": [
       "'ineuron'"
      ]
     },
     "execution_count": 24,
     "metadata": {},
     "output_type": "execute_result"
    }
   ],
   "source": [
    "d3['org']"
   ]
  },
  {
   "cell_type": "code",
   "execution_count": 25,
   "id": "e5cb8da8",
   "metadata": {},
   "outputs": [
    {
     "data": {
      "text/plain": [
       "dict_keys(['name', 'org'])"
      ]
     },
     "execution_count": 25,
     "metadata": {},
     "output_type": "execute_result"
    }
   ],
   "source": [
    "d3.keys()"
   ]
  },
  {
   "cell_type": "code",
   "execution_count": 26,
   "id": "c5de1c20",
   "metadata": {},
   "outputs": [
    {
     "data": {
      "text/plain": [
       "dict_values(['sudh', 'ineuron'])"
      ]
     },
     "execution_count": 26,
     "metadata": {},
     "output_type": "execute_result"
    }
   ],
   "source": [
    "d3.values()"
   ]
  },
  {
   "cell_type": "code",
   "execution_count": 27,
   "id": "2762810d",
   "metadata": {},
   "outputs": [
    {
     "data": {
      "text/plain": [
       "dict_items([('name', 'sudh'), ('org', 'ineuron')])"
      ]
     },
     "execution_count": 27,
     "metadata": {},
     "output_type": "execute_result"
    }
   ],
   "source": [
    "d3.items()"
   ]
  },
  {
   "cell_type": "code",
   "execution_count": 29,
   "id": "75cc7c6e",
   "metadata": {},
   "outputs": [],
   "source": [
    "d8 = {'name':'sudh', 'mentor':{'fsds':'imran', 'fsda':'anand'}}"
   ]
  },
  {
   "cell_type": "code",
   "execution_count": 30,
   "id": "71257999",
   "metadata": {},
   "outputs": [
    {
     "data": {
      "text/plain": [
       "{'fsds': 'imran', 'fsda': 'anand'}"
      ]
     },
     "execution_count": 30,
     "metadata": {},
     "output_type": "execute_result"
    }
   ],
   "source": [
    "d8['mentor']"
   ]
  },
  {
   "cell_type": "code",
   "execution_count": 31,
   "id": "aa9aed52",
   "metadata": {},
   "outputs": [
    {
     "data": {
      "text/plain": [
       "['imran', 'anand']"
      ]
     },
     "execution_count": 31,
     "metadata": {},
     "output_type": "execute_result"
    }
   ],
   "source": [
    "list(d8['mentor'].values())"
   ]
  },
  {
   "cell_type": "code",
   "execution_count": 34,
   "id": "b7fe11d9",
   "metadata": {},
   "outputs": [],
   "source": [
    "l = []\n",
    "for i in d8.keys():\n",
    "    if type(d8[i]) == dict:\n",
    "        l.append(list(d8[i].values()))\n",
    "        "
   ]
  },
  {
   "cell_type": "code",
   "execution_count": 35,
   "id": "fef2dfb1",
   "metadata": {},
   "outputs": [
    {
     "data": {
      "text/plain": [
       "[['imran', 'anand']]"
      ]
     },
     "execution_count": 35,
     "metadata": {},
     "output_type": "execute_result"
    }
   ],
   "source": [
    "l"
   ]
  },
  {
   "cell_type": "code",
   "execution_count": 36,
   "id": "51faf498",
   "metadata": {},
   "outputs": [],
   "source": [
    "d9 = {'name':'sudh', 'mentor':{'fsds':'imran', 'fsda':'anand'}, 'mail id' : {'imran': 'imran@ineuron', 'anand' : 'anand@ineuron'}}"
   ]
  },
  {
   "cell_type": "code",
   "execution_count": 37,
   "id": "f0adcee6",
   "metadata": {},
   "outputs": [],
   "source": [
    "l1 = []\n",
    "for i in d9.keys():\n",
    "    if type(d9[i]) == dict:\n",
    "        l1.append(list(d9[i].values()))\n",
    "        "
   ]
  },
  {
   "cell_type": "code",
   "execution_count": 38,
   "id": "9bad987a",
   "metadata": {},
   "outputs": [
    {
     "data": {
      "text/plain": [
       "[['imran', 'anand'], ['imran@ineuron', 'anand@ineuron']]"
      ]
     },
     "execution_count": 38,
     "metadata": {},
     "output_type": "execute_result"
    }
   ],
   "source": [
    "l1"
   ]
  },
  {
   "cell_type": "code",
   "execution_count": 39,
   "id": "5c9510fa",
   "metadata": {},
   "outputs": [],
   "source": [
    "d9['mobile'] = (3232,4353)"
   ]
  },
  {
   "cell_type": "code",
   "execution_count": 40,
   "id": "98f31979",
   "metadata": {},
   "outputs": [
    {
     "data": {
      "text/plain": [
       "{'name': 'sudh',\n",
       " 'mentor': {'fsds': 'imran', 'fsda': 'anand'},\n",
       " 'mail id': {'imran': 'imran@ineuron', 'anand': 'anand@ineuron'},\n",
       " 'mobile': (3232, 4353)}"
      ]
     },
     "execution_count": 40,
     "metadata": {},
     "output_type": "execute_result"
    }
   ],
   "source": [
    "d9"
   ]
  },
  {
   "cell_type": "code",
   "execution_count": 41,
   "id": "73ef1553",
   "metadata": {},
   "outputs": [],
   "source": [
    "d9['name'] = 'sudh kumar'"
   ]
  },
  {
   "cell_type": "code",
   "execution_count": 42,
   "id": "f1a87c2f",
   "metadata": {},
   "outputs": [
    {
     "data": {
      "text/plain": [
       "{'name': 'sudh kumar',\n",
       " 'mentor': {'fsds': 'imran', 'fsda': 'anand'},\n",
       " 'mail id': {'imran': 'imran@ineuron', 'anand': 'anand@ineuron'},\n",
       " 'mobile': (3232, 4353)}"
      ]
     },
     "execution_count": 42,
     "metadata": {},
     "output_type": "execute_result"
    }
   ],
   "source": [
    "d9"
   ]
  },
  {
   "cell_type": "code",
   "execution_count": 43,
   "id": "202b4a15",
   "metadata": {},
   "outputs": [],
   "source": [
    "del d8['name']"
   ]
  },
  {
   "cell_type": "code",
   "execution_count": 44,
   "id": "1525a61f",
   "metadata": {},
   "outputs": [
    {
     "data": {
      "text/plain": [
       "{'mentor': {'fsds': 'imran', 'fsda': 'anand'}}"
      ]
     },
     "execution_count": 44,
     "metadata": {},
     "output_type": "execute_result"
    }
   ],
   "source": [
    "d8"
   ]
  },
  {
   "cell_type": "code",
   "execution_count": 46,
   "id": "aa54d149",
   "metadata": {},
   "outputs": [],
   "source": [
    "d8['name'] = 'sudh kumar'"
   ]
  },
  {
   "cell_type": "code",
   "execution_count": 47,
   "id": "924cedde",
   "metadata": {},
   "outputs": [
    {
     "data": {
      "text/plain": [
       "{'mentor': {'fsds': 'imran', 'fsda': 'anand'}, 'name': 'sudh kumar'}"
      ]
     },
     "execution_count": 47,
     "metadata": {},
     "output_type": "execute_result"
    }
   ],
   "source": [
    "d8"
   ]
  },
  {
   "cell_type": "code",
   "execution_count": 48,
   "id": "4368ba35",
   "metadata": {},
   "outputs": [
    {
     "data": {
      "text/plain": [
       "'sudh kumar'"
      ]
     },
     "execution_count": 48,
     "metadata": {},
     "output_type": "execute_result"
    }
   ],
   "source": [
    "d8.pop('name')"
   ]
  },
  {
   "cell_type": "code",
   "execution_count": 49,
   "id": "00a8677b",
   "metadata": {},
   "outputs": [
    {
     "data": {
      "text/plain": [
       "{'mentor': {'fsds': 'imran', 'fsda': 'anand'}}"
      ]
     },
     "execution_count": 49,
     "metadata": {},
     "output_type": "execute_result"
    }
   ],
   "source": [
    "d8"
   ]
  },
  {
   "cell_type": "code",
   "execution_count": 50,
   "id": "deeb760a",
   "metadata": {},
   "outputs": [],
   "source": [
    "def test10(**kwargs):\n",
    "    return kwargs"
   ]
  },
  {
   "cell_type": "code",
   "execution_count": 53,
   "id": "38a63e29",
   "metadata": {},
   "outputs": [
    {
     "data": {
      "text/plain": [
       "{'a': 9, 'b': 0, 'u': 'djjd'}"
      ]
     },
     "execution_count": 53,
     "metadata": {},
     "output_type": "execute_result"
    }
   ],
   "source": [
    "test10(a=9,b=0,u='djjd')"
   ]
  },
  {
   "cell_type": "code",
   "execution_count": 55,
   "id": "806e4f91",
   "metadata": {},
   "outputs": [],
   "source": [
    "def test11(a):\n",
    "    return a\n",
    "\n",
    "def test12(b):\n",
    "    return b\n",
    "\n",
    "def test13(func):\n",
    "    return func(50)"
   ]
  },
  {
   "cell_type": "code",
   "execution_count": 56,
   "id": "00d58498",
   "metadata": {},
   "outputs": [
    {
     "ename": "TypeError",
     "evalue": "test11() missing 1 required positional argument: 'a'",
     "output_type": "error",
     "traceback": [
      "\u001b[1;31m---------------------------------------------------------------------------\u001b[0m",
      "\u001b[1;31mTypeError\u001b[0m                                 Traceback (most recent call last)",
      "Input \u001b[1;32mIn [56]\u001b[0m, in \u001b[0;36m<cell line: 1>\u001b[1;34m()\u001b[0m\n\u001b[1;32m----> 1\u001b[0m test13(\u001b[43mtest11\u001b[49m\u001b[43m(\u001b[49m\u001b[43m)\u001b[49m)\n",
      "\u001b[1;31mTypeError\u001b[0m: test11() missing 1 required positional argument: 'a'"
     ]
    }
   ],
   "source": [
    "test13(test11())"
   ]
  },
  {
   "cell_type": "code",
   "execution_count": 57,
   "id": "73e4c38e",
   "metadata": {},
   "outputs": [
    {
     "data": {
      "text/plain": [
       "50"
      ]
     },
     "execution_count": 57,
     "metadata": {},
     "output_type": "execute_result"
    }
   ],
   "source": [
    "test13(test11)"
   ]
  },
  {
   "cell_type": "code",
   "execution_count": 58,
   "id": "f2e00006",
   "metadata": {},
   "outputs": [],
   "source": [
    "def test14(a):\n",
    "    return a\n",
    "\n",
    "def test15():\n",
    "    return \"sush\"\n",
    "\n",
    "def test16(func):\n",
    "    return func(50)"
   ]
  },
  {
   "cell_type": "code",
   "execution_count": 59,
   "id": "85df92cc",
   "metadata": {},
   "outputs": [
    {
     "data": {
      "text/plain": [
       "50"
      ]
     },
     "execution_count": 59,
     "metadata": {},
     "output_type": "execute_result"
    }
   ],
   "source": [
    "test16(test14)"
   ]
  },
  {
   "cell_type": "code",
   "execution_count": 60,
   "id": "0a2106ea",
   "metadata": {},
   "outputs": [
    {
     "ename": "TypeError",
     "evalue": "test15() takes 0 positional arguments but 1 was given",
     "output_type": "error",
     "traceback": [
      "\u001b[1;31m---------------------------------------------------------------------------\u001b[0m",
      "\u001b[1;31mTypeError\u001b[0m                                 Traceback (most recent call last)",
      "Input \u001b[1;32mIn [60]\u001b[0m, in \u001b[0;36m<cell line: 1>\u001b[1;34m()\u001b[0m\n\u001b[1;32m----> 1\u001b[0m \u001b[43mtest16\u001b[49m\u001b[43m(\u001b[49m\u001b[43mtest15\u001b[49m\u001b[43m)\u001b[49m\n",
      "Input \u001b[1;32mIn [58]\u001b[0m, in \u001b[0;36mtest16\u001b[1;34m(func)\u001b[0m\n\u001b[0;32m      7\u001b[0m \u001b[38;5;28;01mdef\u001b[39;00m \u001b[38;5;21mtest16\u001b[39m(func):\n\u001b[1;32m----> 8\u001b[0m     \u001b[38;5;28;01mreturn\u001b[39;00m \u001b[43mfunc\u001b[49m\u001b[43m(\u001b[49m\u001b[38;5;241;43m50\u001b[39;49m\u001b[43m)\u001b[49m\n",
      "\u001b[1;31mTypeError\u001b[0m: test15() takes 0 positional arguments but 1 was given"
     ]
    }
   ],
   "source": [
    "test16(test15)"
   ]
  },
  {
   "cell_type": "code",
   "execution_count": 61,
   "id": "a76a8999",
   "metadata": {},
   "outputs": [],
   "source": [
    "def test17(a):\n",
    "    return a\n",
    "\n",
    "def test18():\n",
    "    return \"sush\"\n",
    "\n",
    "def test19(func):\n",
    "    return func()"
   ]
  },
  {
   "cell_type": "code",
   "execution_count": 81,
   "id": "3c45557c",
   "metadata": {},
   "outputs": [
    {
     "name": "stdout",
     "output_type": "stream",
     "text": [
      "CPU times: total: 0 ns\n",
      "Wall time: 0 ns\n"
     ]
    },
    {
     "data": {
      "text/plain": [
       "'sush'"
      ]
     },
     "execution_count": 81,
     "metadata": {},
     "output_type": "execute_result"
    }
   ],
   "source": [
    "%%time\n",
    "test19(test18)"
   ]
  },
  {
   "cell_type": "code",
   "execution_count": 63,
   "id": "20b07755",
   "metadata": {},
   "outputs": [],
   "source": [
    "def test20(a):\n",
    "    return a\n",
    "\n",
    "def test21(*args):\n",
    "    return \"sush\"\n",
    "\n",
    "def test22(func):\n",
    "    return func(50)"
   ]
  },
  {
   "cell_type": "code",
   "execution_count": 64,
   "id": "631dfcbc",
   "metadata": {},
   "outputs": [
    {
     "data": {
      "text/plain": [
       "'sush'"
      ]
     },
     "execution_count": 64,
     "metadata": {},
     "output_type": "execute_result"
    }
   ],
   "source": [
    "test22(test21)"
   ]
  },
  {
   "cell_type": "code",
   "execution_count": 68,
   "id": "349361dd",
   "metadata": {},
   "outputs": [],
   "source": [
    "def test23():\n",
    "    print('test23')\n",
    "\n",
    "    def test24():\n",
    "        print('test24')\n",
    "\n",
    "    def test25():\n",
    "        print('test25')"
   ]
  },
  {
   "cell_type": "code",
   "execution_count": 72,
   "id": "52c18488",
   "metadata": {},
   "outputs": [
    {
     "name": "stdout",
     "output_type": "stream",
     "text": [
      "test23\n"
     ]
    }
   ],
   "source": [
    "test23()"
   ]
  },
  {
   "cell_type": "code",
   "execution_count": 70,
   "id": "a961a173",
   "metadata": {},
   "outputs": [
    {
     "ename": "NameError",
     "evalue": "name 'test24' is not defined",
     "output_type": "error",
     "traceback": [
      "\u001b[1;31m---------------------------------------------------------------------------\u001b[0m",
      "\u001b[1;31mNameError\u001b[0m                                 Traceback (most recent call last)",
      "Input \u001b[1;32mIn [70]\u001b[0m, in \u001b[0;36m<cell line: 1>\u001b[1;34m()\u001b[0m\n\u001b[1;32m----> 1\u001b[0m \u001b[43mtest24\u001b[49m()\n",
      "\u001b[1;31mNameError\u001b[0m: name 'test24' is not defined"
     ]
    }
   ],
   "source": [
    "test24()"
   ]
  },
  {
   "cell_type": "code",
   "execution_count": 73,
   "id": "16caa655",
   "metadata": {},
   "outputs": [],
   "source": [
    "def test26(a):\n",
    "    print('test26')\n",
    "\n",
    "    def test27():\n",
    "        print('test27')\n",
    "\n",
    "    def test28():\n",
    "        print('test28')\n",
    "    if a == 'sudh':\n",
    "        return test27()\n",
    "    elif a == 'kumar':\n",
    "        return test28()"
   ]
  },
  {
   "cell_type": "code",
   "execution_count": 74,
   "id": "bad45c68",
   "metadata": {},
   "outputs": [
    {
     "name": "stdout",
     "output_type": "stream",
     "text": [
      "test26\n",
      "test28\n"
     ]
    }
   ],
   "source": [
    "test26('kumar')"
   ]
  },
  {
   "cell_type": "code",
   "execution_count": 75,
   "id": "324485a7",
   "metadata": {},
   "outputs": [],
   "source": [
    "def test29(func):\n",
    "    def test30():\n",
    "        print('test30')\n",
    "        func()\n",
    "    return test30()"
   ]
  },
  {
   "cell_type": "code",
   "execution_count": 78,
   "id": "a0b5bbb0",
   "metadata": {},
   "outputs": [
    {
     "name": "stdout",
     "output_type": "stream",
     "text": [
      "test30\n",
      "test23\n"
     ]
    }
   ],
   "source": [
    "test29(test23)"
   ]
  },
  {
   "cell_type": "code",
   "execution_count": 79,
   "id": "ae272de7",
   "metadata": {},
   "outputs": [
    {
     "ename": "NameError",
     "evalue": "name 'cwd' is not defined",
     "output_type": "error",
     "traceback": [
      "\u001b[1;31m---------------------------------------------------------------------------\u001b[0m",
      "\u001b[1;31mNameError\u001b[0m                                 Traceback (most recent call last)",
      "Input \u001b[1;32mIn [79]\u001b[0m, in \u001b[0;36m<cell line: 1>\u001b[1;34m()\u001b[0m\n\u001b[1;32m----> 1\u001b[0m \u001b[43mcwd\u001b[49m\n",
      "\u001b[1;31mNameError\u001b[0m: name 'cwd' is not defined"
     ]
    }
   ],
   "source": [
    "cwd"
   ]
  },
  {
   "cell_type": "code",
   "execution_count": 80,
   "id": "b887a3af",
   "metadata": {},
   "outputs": [
    {
     "data": {
      "text/plain": [
       "'E:\\\\Workspace\\\\FSDS_Bootcamp\\\\Python'"
      ]
     },
     "execution_count": 80,
     "metadata": {},
     "output_type": "execute_result"
    }
   ],
   "source": [
    "pwd"
   ]
  },
  {
   "cell_type": "code",
   "execution_count": null,
   "id": "377ceefc",
   "metadata": {},
   "outputs": [],
   "source": []
  }
 ],
 "metadata": {
  "kernelspec": {
   "display_name": "Python (aboli_fsds)",
   "language": "python",
   "name": "aboli_fsds"
  },
  "language_info": {
   "codemirror_mode": {
    "name": "ipython",
    "version": 3
   },
   "file_extension": ".py",
   "mimetype": "text/x-python",
   "name": "python",
   "nbconvert_exporter": "python",
   "pygments_lexer": "ipython3",
   "version": "3.10.6"
  }
 },
 "nbformat": 4,
 "nbformat_minor": 5
}

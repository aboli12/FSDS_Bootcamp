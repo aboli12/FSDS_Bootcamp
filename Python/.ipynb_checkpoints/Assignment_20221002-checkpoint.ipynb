{
 "cells": [
  {
   "cell_type": "markdown",
   "id": "c0f7bb53",
   "metadata": {},
   "source": [
    "### 1.What is indentation error? Why indentation is important? Give one simple example?"
   ]
  },
  {
   "cell_type": "markdown",
   "id": "65c3c383",
   "metadata": {},
   "source": [
    "=> Python recognizes coding blocks using indentation, that's why indentation is important in python\n",
    "\n",
    "For Example:"
   ]
  },
  {
   "cell_type": "code",
   "execution_count": 1,
   "id": "c842aa7d",
   "metadata": {},
   "outputs": [
    {
     "ename": "IndentationError",
     "evalue": "expected an indented block (3482084581.py, line 2)",
     "output_type": "error",
     "traceback": [
      "\u001b[1;36m  Input \u001b[1;32mIn [1]\u001b[1;36m\u001b[0m\n\u001b[1;33m    print(\"yess\")\u001b[0m\n\u001b[1;37m    ^\u001b[0m\n\u001b[1;31mIndentationError\u001b[0m\u001b[1;31m:\u001b[0m expected an indented block\n"
     ]
    }
   ],
   "source": [
    "if True:\n",
    "print(\"yess\")"
   ]
  },
  {
   "cell_type": "markdown",
   "id": "9256b5a6",
   "metadata": {},
   "source": [
    "### 2.Correct the following code and write the comment where you made the correction?"
   ]
  },
  {
   "cell_type": "code",
   "execution_count": 2,
   "id": "080255c2",
   "metadata": {},
   "outputs": [
    {
     "name": "stdout",
     "output_type": "stream",
     "text": [
      "Hey friend, is class started?: [0-False/1-True]1\n",
      "Since class started...\n",
      "Lets concentrate\n"
     ]
    }
   ],
   "source": [
    "class_started = input(\"Hey friend, is class started?: [0-False/1-True]\")\n",
    "\n",
    "if class_started == \"True\" or class_started == \"1\": #String can not be converted to boolean correctly in python\n",
    "    print(\"Since class started...\")\n",
    "    print(\"Lets concentrate\")\n",
    "else:\n",
    "    print(\"Since class is not started...\")\n",
    "    print(\"let's revise\")   "
   ]
  },
  {
   "cell_type": "markdown",
   "id": "3af39b75",
   "metadata": {},
   "source": [
    "### 3.Use if else condition to verify that dataype of input() method in python is always string"
   ]
  },
  {
   "cell_type": "code",
   "execution_count": 3,
   "id": "2aaf3d64",
   "metadata": {},
   "outputs": [
    {
     "name": "stdout",
     "output_type": "stream",
     "text": [
      "Enter an integer :1\n",
      "1\n",
      "input taken is always string\n"
     ]
    }
   ],
   "source": [
    "p = input(\"Enter an integer :\")\n",
    "\n",
    "print(p)\n",
    "\n",
    "if isinstance(p, str):\n",
    "    print(\"input taken is always string\")"
   ]
  },
  {
   "cell_type": "markdown",
   "id": "f1748b57",
   "metadata": {},
   "source": [
    "### 4.Take 3 variables and assign integer values to them. Find the largest variable, by only using the if and else conditions."
   ]
  },
  {
   "cell_type": "code",
   "execution_count": 20,
   "id": "a7a707fb",
   "metadata": {},
   "outputs": [
    {
     "name": "stdout",
     "output_type": "stream",
     "text": [
      "c is highest\n"
     ]
    }
   ],
   "source": [
    "a, b, c = 7000, 5010, 71000\n",
    "if a > b and a > c:\n",
    "    print('a is highest')\n",
    "elif b > a and b > c:\n",
    "    print('b is highest')\n",
    "else:\n",
    "    print('c is highest')\n",
    "    "
   ]
  },
  {
   "cell_type": "markdown",
   "id": "f7bc74ff",
   "metadata": {},
   "source": [
    "### 5.What would be the solution?\n",
    "\n",
    "True\n",
    "\n",
    "False"
   ]
  },
  {
   "cell_type": "code",
   "execution_count": 21,
   "id": "3c21dd2d",
   "metadata": {},
   "outputs": [
    {
     "name": "stdout",
     "output_type": "stream",
     "text": [
      "False\n"
     ]
    }
   ],
   "source": [
    "a = 6\n",
    "b = 10\n",
    "print( not ( not a == 10 or not b == 10) )"
   ]
  },
  {
   "cell_type": "markdown",
   "id": "96ad12ac",
   "metadata": {},
   "source": [
    "### 6.Find the answer as well as find out the reason behind the result?"
   ]
  },
  {
   "cell_type": "markdown",
   "id": "6fde876c",
   "metadata": {},
   "source": [
    "case 1"
   ]
  },
  {
   "cell_type": "code",
   "execution_count": 47,
   "id": "fbae6baa",
   "metadata": {},
   "outputs": [
    {
     "name": "stdout",
     "output_type": "stream",
     "text": [
      "id of A : 3051774912944\n",
      "id of B : 3051774913392\n",
      "False\n",
      "is operator compares memory addresses, that's why 'A is B' is false\n"
     ]
    }
   ],
   "source": [
    "A = 5.0\n",
    "B = 10/2\n",
    "\n",
    "print(f'id of A : {id(A)}')\n",
    "print(f'id of B : {id(B)}')\n",
    "print(A is B)\n",
    "print(\"is operator compares memory addresses, that's why 'A is B' is false\")"
   ]
  },
  {
   "cell_type": "markdown",
   "id": "b81360b4",
   "metadata": {},
   "source": [
    "case 2"
   ]
  },
  {
   "cell_type": "code",
   "execution_count": 45,
   "id": "639f0cf1",
   "metadata": {},
   "outputs": [
    {
     "name": "stdout",
     "output_type": "stream",
     "text": [
      "id of A : 3051775325328\n",
      "id of B : 3051688585648\n",
      "False\n",
      "is operator compares memory addresses, that's why 'A is B' is false\n"
     ]
    }
   ],
   "source": [
    "A = 5.0\n",
    "B = int(10/2)\n",
    "\n",
    "print(f'id of A : {id(A)}')\n",
    "print(f'id of B : {id(B)}')\n",
    "print(A is B)\n",
    "print(\"is operator compares memory addresses, that's why 'A is B' is false\")"
   ]
  },
  {
   "cell_type": "markdown",
   "id": "de279c8f",
   "metadata": {},
   "source": [
    "case 3"
   ]
  },
  {
   "cell_type": "code",
   "execution_count": 46,
   "id": "f2a47bfb",
   "metadata": {},
   "outputs": [
    {
     "name": "stdout",
     "output_type": "stream",
     "text": [
      "id of A : 3051774913392\n",
      "id of B : 3051775325328\n",
      "False\n",
      "is operator compares memory addresses, that's why 'A is B' is false\n"
     ]
    }
   ],
   "source": [
    "A = 5.0\n",
    "B = float(10/2)\n",
    "\n",
    "print(f'id of A : {id(A)}')\n",
    "print(f'id of B : {id(B)}')\n",
    "print(A is B)\n",
    "print(\"is operator compares memory addresses, that's why 'A is B' is false\")"
   ]
  },
  {
   "cell_type": "markdown",
   "id": "d3e71fac",
   "metadata": {},
   "source": [
    "### 7.Write a program that asks the user to enter a number. You should print out a message to the user, either “That number is divisible by either 3 or 5”, or “That number is not divisible by either 3 or 5”. Be sure to consider the data type of the input you are taking in from the user. Use a single if/else block to solve this problem."
   ]
  },
  {
   "cell_type": "code",
   "execution_count": 50,
   "id": "11b61094",
   "metadata": {},
   "outputs": [
    {
     "name": "stdout",
     "output_type": "stream",
     "text": [
      "Enter a number 15\n",
      "The number is divisible by either 3 or 5\n"
     ]
    }
   ],
   "source": [
    "q = int(input('Enter a number '))\n",
    "\n",
    "if q % 3 == 0 and q % 5 == 0:\n",
    "    print('The number is divisible by either 3 or 5')\n",
    "else:\n",
    "    print('The number is not divisible by either 3 or 5')"
   ]
  },
  {
   "cell_type": "markdown",
   "id": "9b583835",
   "metadata": {},
   "source": [
    "### 8.Take user input for length and width. Then calculate the area of rectangle. Also print as per length and width whether its a square of rectangle."
   ]
  },
  {
   "cell_type": "code",
   "execution_count": 2,
   "id": "f49713f5",
   "metadata": {},
   "outputs": [
    {
     "name": "stdout",
     "output_type": "stream",
     "text": [
      "Enter length 7\n",
      "Enter width 7\n",
      "The shape is a square\n",
      "Area of square 49\n"
     ]
    }
   ],
   "source": [
    "l = int(input('Enter length '))\n",
    "w = int(input('Enter width '))\n",
    "\n",
    "Area = l * w\n",
    "if (l == w):\n",
    "    print('The shape is a square')\n",
    "    print(f'Area of square {l**2}')\n",
    "else:\n",
    "    print('The shape is a rectangle')\n",
    "    print(f'Area of rectangle {Area}')\n"
   ]
  },
  {
   "cell_type": "markdown",
   "id": "b6cc1009",
   "metadata": {},
   "source": [
    "### 9.Take two variable radius_1 and radius_2 and calculate the area of circle_1 and circle_2. Also print which circle has large area. If area is equal then print area is equal."
   ]
  },
  {
   "cell_type": "code",
   "execution_count": 4,
   "id": "0758570e",
   "metadata": {},
   "outputs": [
    {
     "name": "stdout",
     "output_type": "stream",
     "text": [
      "Enter radius 1 8\n",
      "Enter radius 2 8\n",
      "Area1 201.14285714285714\n",
      "Area2 201.14285714285714\n",
      "The circles have equal area\n"
     ]
    }
   ],
   "source": [
    "r1 = int(input('Enter radius 1 '))\n",
    "r2 = int(input('Enter radius 2 '))\n",
    "\n",
    "pi = 22/7\n",
    "Area1 = pi * (r1**2)\n",
    "Area2 = pi * (r2**2)\n",
    "print(f'Area1 {Area1}')\n",
    "print(f'Area2 {Area2}')\n",
    "if (Area1 == Area2):\n",
    "    print('The circles have equal area')\n",
    "else:\n",
    "    if (Area1 > Area2):\n",
    "        print('The first circle has large area')\n",
    "    else:\n",
    "        print('The second circle has large area')"
   ]
  },
  {
   "cell_type": "markdown",
   "id": "5404f67f",
   "metadata": {},
   "source": [
    "### 10.Check whether a year is leap year or not. Use nested if...else to solve this problem. A leap year is exactly divisible by 4 except for century years (years ending with 00). The century year is a leap year only if it is perfectly divisible by 400."
   ]
  },
  {
   "cell_type": "code",
   "execution_count": 9,
   "id": "1fa90dd0",
   "metadata": {},
   "outputs": [
    {
     "name": "stdout",
     "output_type": "stream",
     "text": [
      "Enter an year 2100\n",
      "year is not leap year\n"
     ]
    }
   ],
   "source": [
    "year = int(input('Enter an year '))\n",
    "\n",
    "if (year % 100 == 0):\n",
    "    if (year % 400 == 0):\n",
    "        print('year is leap year')\n",
    "    else:\n",
    "        print('year is not leap year')\n",
    "elif (year % 4 == 0):\n",
    "    print('year is leap year')\n",
    "else:\n",
    "    print('year is not leap year')\n",
    "\n"
   ]
  },
  {
   "cell_type": "code",
   "execution_count": null,
   "id": "41d27b35",
   "metadata": {},
   "outputs": [],
   "source": []
  }
 ],
 "metadata": {
  "kernelspec": {
   "display_name": "Python 3 (ipykernel)",
   "language": "python",
   "name": "python3"
  },
  "language_info": {
   "codemirror_mode": {
    "name": "ipython",
    "version": 3
   },
   "file_extension": ".py",
   "mimetype": "text/x-python",
   "name": "python",
   "nbconvert_exporter": "python",
   "pygments_lexer": "ipython3",
   "version": "3.9.12"
  }
 },
 "nbformat": 4,
 "nbformat_minor": 5
}

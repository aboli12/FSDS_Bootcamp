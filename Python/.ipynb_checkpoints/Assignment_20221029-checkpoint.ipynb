{
 "cells": [
  {
   "cell_type": "markdown",
   "id": "4fe7183a",
   "metadata": {},
   "source": [
    "1. write a function which will try to find out len of a string without using an in-built len function"
   ]
  },
  {
   "cell_type": "code",
   "execution_count": 10,
   "id": "43259c9f",
   "metadata": {},
   "outputs": [],
   "source": [
    "def count_of_string(input_string):\n",
    "    \"\"\"\n",
    "    This function gives the length of string without inbuilt length function\n",
    "    \"\"\"\n",
    "    count = 0\n",
    "    for i in input_string:\n",
    "        count += 1\n",
    "    return count"
   ]
  },
  {
   "cell_type": "code",
   "execution_count": 11,
   "id": "81732904",
   "metadata": {},
   "outputs": [
    {
     "data": {
      "text/plain": [
       "26"
      ]
     },
     "execution_count": 11,
     "metadata": {},
     "output_type": "execute_result"
    }
   ],
   "source": [
    "count_of_string('ajfhwdh  wedljhwdf   wfjwf')"
   ]
  },
  {
   "cell_type": "markdown",
   "id": "297e9136",
   "metadata": {},
   "source": [
    "2. write a function which will be able to print an index of list element without using index function"
   ]
  },
  {
   "cell_type": "code",
   "execution_count": 24,
   "id": "6e4855d0",
   "metadata": {},
   "outputs": [],
   "source": [
    "l = [5,6,8,9,56,90]\n",
    "index = 0\n",
    "def print_index(a):\n",
    "    \"\"\"\n",
    "    prints the index without index function\n",
    "    \"\"\"\n",
    "    count = 0\n",
    "    for i in l:\n",
    "        if i == a:\n",
    "            index = count\n",
    "        count += 1\n",
    "    return index"
   ]
  },
  {
   "cell_type": "code",
   "execution_count": 25,
   "id": "f6bf2b6e",
   "metadata": {},
   "outputs": [
    {
     "data": {
      "text/plain": [
       "5"
      ]
     },
     "execution_count": 25,
     "metadata": {},
     "output_type": "execute_result"
    }
   ],
   "source": [
    "print_index(90)"
   ]
  },
  {
   "cell_type": "markdown",
   "id": "3c394076",
   "metadata": {},
   "source": [
    "3. write a function which will be able to print an ip address of your system"
   ]
  },
  {
   "cell_type": "code",
   "execution_count": 3,
   "id": "1270ca25",
   "metadata": {},
   "outputs": [],
   "source": [
    "import socket\n",
    "def get_ip_address():\n",
    "    \"\"\"\n",
    "    prints the ip address of system\n",
    "    \"\"\"\n",
    "    hostname = socket.gethostname()\n",
    "    IPAddr = socket.gethostbyname(hostname)\n",
    "    print('IP Address is: ' + IPAddr)"
   ]
  },
  {
   "cell_type": "code",
   "execution_count": 4,
   "id": "108a9819",
   "metadata": {},
   "outputs": [
    {
     "name": "stdout",
     "output_type": "stream",
     "text": [
      "IP Address is: 192.168.0.90\n"
     ]
    }
   ],
   "source": [
    "get_ip_address()"
   ]
  },
  {
   "cell_type": "markdown",
   "id": "db2b912b",
   "metadata": {},
   "source": [
    "4. write a function which will shutdown your system"
   ]
  },
  {
   "cell_type": "code",
   "execution_count": null,
   "id": "552c5e4d",
   "metadata": {},
   "outputs": [],
   "source": [
    "import os\n",
    "  \n",
    "shutdown = input(\"Do you wish to shutdown your computer ? (yes / no): \")\n",
    "  \n",
    "if shutdown == 'no':\n",
    "    exit()\n",
    "else:\n",
    "    os.system(\"shutdown /s /t 1\")"
   ]
  },
  {
   "cell_type": "markdown",
   "id": "7b704821",
   "metadata": {},
   "source": [
    "5. write a function which will take input as a list of any kind of numeric value and give an output as multiplication of all the numeric data l = [3.5, 6.56, 4, 5, \"sudh\", \"ineuron\", \"fsds bootcamp 2.0\"]"
   ]
  },
  {
   "cell_type": "code",
   "execution_count": 25,
   "id": "f6cd263d",
   "metadata": {},
   "outputs": [],
   "source": [
    "\n",
    "def print_index(l):\n",
    "    \"\"\"\n",
    "    prints the index without index function\n",
    "    \"\"\"\n",
    "    res = 1\n",
    "    for i in l:\n",
    "        if isinstance(i, (int, float)):\n",
    "            res = res * i\n",
    "    return round(res,2)"
   ]
  },
  {
   "cell_type": "code",
   "execution_count": 26,
   "id": "bbb360b7",
   "metadata": {},
   "outputs": [
    {
     "data": {
      "text/plain": [
       "459.2"
      ]
     },
     "execution_count": 26,
     "metadata": {},
     "output_type": "execute_result"
    }
   ],
   "source": [
    "l = [3.5, 6.56, 4, 5, 'sudh', 'ineuron', 'fsds bootcamp 2.0']\n",
    "print_index(l)"
   ]
  },
  {
   "cell_type": "markdown",
   "id": "af728b1d",
   "metadata": {},
   "source": [
    "6. write a function which will be able to read all the emails"
   ]
  },
  {
   "cell_type": "code",
   "execution_count": null,
   "id": "f485819d",
   "metadata": {},
   "outputs": [],
   "source": []
  },
  {
   "cell_type": "markdown",
   "id": "4d630d37",
   "metadata": {},
   "source": [
    "7. write a function which will be send an email to anyone"
   ]
  },
  {
   "cell_type": "code",
   "execution_count": null,
   "id": "4dfd3354",
   "metadata": {},
   "outputs": [],
   "source": []
  },
  {
   "cell_type": "markdown",
   "id": "de0e4124",
   "metadata": {},
   "source": [
    "8. write a function which will be able to read a doc/word file from your system"
   ]
  },
  {
   "cell_type": "code",
   "execution_count": 27,
   "id": "3fcaa7bd",
   "metadata": {},
   "outputs": [
    {
     "name": "stdout",
     "output_type": "stream",
     "text": [
      "Hi\n",
      "\n",
      "This is test docx file\n"
     ]
    }
   ],
   "source": [
    "import docx2txt\n",
    "my_text = docx2txt.process(\"test.docx\")\n",
    "print(my_text)"
   ]
  },
  {
   "cell_type": "code",
   "execution_count": null,
   "id": "2aee0a56",
   "metadata": {},
   "outputs": [],
   "source": []
  }
 ],
 "metadata": {
  "kernelspec": {
   "display_name": "Python (aboli_fsds)",
   "language": "python",
   "name": "aboli_fsds"
  },
  "language_info": {
   "codemirror_mode": {
    "name": "ipython",
    "version": 3
   },
   "file_extension": ".py",
   "mimetype": "text/x-python",
   "name": "python",
   "nbconvert_exporter": "python",
   "pygments_lexer": "ipython3",
   "version": "3.10.6"
  }
 },
 "nbformat": 4,
 "nbformat_minor": 5
}

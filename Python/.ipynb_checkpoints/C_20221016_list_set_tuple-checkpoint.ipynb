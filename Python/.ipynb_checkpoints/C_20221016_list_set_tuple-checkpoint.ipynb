{
 "cells": [
  {
   "cell_type": "code",
   "execution_count": 1,
   "id": "7dbdbe85",
   "metadata": {},
   "outputs": [],
   "source": [
    "A = [[1,2,3], [11, 22, 33, [500, 502]], [45, [239, \"Hiii\"], 56, 77]]\n"
   ]
  },
  {
   "cell_type": "code",
   "execution_count": 2,
   "id": "9b67e815",
   "metadata": {},
   "outputs": [
    {
     "data": {
      "text/plain": [
       "[45, [239, 'Hiii'], 56, 77]"
      ]
     },
     "execution_count": 2,
     "metadata": {},
     "output_type": "execute_result"
    }
   ],
   "source": [
    "A[2]"
   ]
  },
  {
   "cell_type": "code",
   "execution_count": 3,
   "id": "ffb50e1e",
   "metadata": {},
   "outputs": [
    {
     "data": {
      "text/plain": [
       "[239, 'Hiii']"
      ]
     },
     "execution_count": 3,
     "metadata": {},
     "output_type": "execute_result"
    }
   ],
   "source": [
    "A[2][1]"
   ]
  },
  {
   "cell_type": "code",
   "execution_count": 4,
   "id": "f18daaac",
   "metadata": {},
   "outputs": [
    {
     "data": {
      "text/plain": [
       "'Hiii'"
      ]
     },
     "execution_count": 4,
     "metadata": {},
     "output_type": "execute_result"
    }
   ],
   "source": [
    "A[2][1][1]"
   ]
  },
  {
   "cell_type": "code",
   "execution_count": 5,
   "id": "45baf375",
   "metadata": {},
   "outputs": [
    {
     "data": {
      "text/plain": [
       "77"
      ]
     },
     "execution_count": 5,
     "metadata": {},
     "output_type": "execute_result"
    }
   ],
   "source": [
    "A[-1][-1]"
   ]
  },
  {
   "cell_type": "code",
   "execution_count": 6,
   "id": "e93c9abd",
   "metadata": {},
   "outputs": [
    {
     "data": {
      "text/plain": [
       "[239, 'Hiii']"
      ]
     },
     "execution_count": 6,
     "metadata": {},
     "output_type": "execute_result"
    }
   ],
   "source": [
    "A[-1][1]"
   ]
  },
  {
   "cell_type": "code",
   "execution_count": 7,
   "id": "d793e491",
   "metadata": {},
   "outputs": [
    {
     "data": {
      "text/plain": [
       "'Hiii'"
      ]
     },
     "execution_count": 7,
     "metadata": {},
     "output_type": "execute_result"
    }
   ],
   "source": [
    "A[-1][1][-1]"
   ]
  },
  {
   "cell_type": "code",
   "execution_count": 8,
   "id": "3a8b6d7d",
   "metadata": {},
   "outputs": [],
   "source": [
    "A = [1,2,3,4,5]"
   ]
  },
  {
   "cell_type": "code",
   "execution_count": 9,
   "id": "a8f1ca9b",
   "metadata": {},
   "outputs": [],
   "source": [
    "ans = [ele**2 for ele in A]"
   ]
  },
  {
   "cell_type": "code",
   "execution_count": 10,
   "id": "cc08b5f2",
   "metadata": {},
   "outputs": [
    {
     "data": {
      "text/plain": [
       "[1, 4, 9, 16, 25]"
      ]
     },
     "execution_count": 10,
     "metadata": {},
     "output_type": "execute_result"
    }
   ],
   "source": [
    "ans"
   ]
  },
  {
   "cell_type": "code",
   "execution_count": 12,
   "id": "ea63dc29",
   "metadata": {},
   "outputs": [
    {
     "data": {
      "text/plain": [
       "[1, 2, 3, 4, 5]"
      ]
     },
     "execution_count": 12,
     "metadata": {},
     "output_type": "execute_result"
    }
   ],
   "source": [
    "[ele for ele in A]"
   ]
  },
  {
   "cell_type": "code",
   "execution_count": 13,
   "id": "509662ba",
   "metadata": {},
   "outputs": [
    {
     "data": {
      "text/plain": [
       "[1, 9, 25]"
      ]
     },
     "execution_count": 13,
     "metadata": {},
     "output_type": "execute_result"
    }
   ],
   "source": [
    "[ele**2 for ele in A[::2]]"
   ]
  },
  {
   "cell_type": "code",
   "execution_count": 14,
   "id": "f4a26639",
   "metadata": {},
   "outputs": [],
   "source": [
    "A = [1,2,3]\n",
    "B = [11,22,33]"
   ]
  },
  {
   "cell_type": "code",
   "execution_count": 16,
   "id": "be99450b",
   "metadata": {},
   "outputs": [],
   "source": [
    "A.extend(B)"
   ]
  },
  {
   "cell_type": "code",
   "execution_count": 17,
   "id": "8e8ec5f8",
   "metadata": {},
   "outputs": [
    {
     "data": {
      "text/plain": [
       "[1, 2, 3, 11, 22, 33]"
      ]
     },
     "execution_count": 17,
     "metadata": {},
     "output_type": "execute_result"
    }
   ],
   "source": [
    "A"
   ]
  },
  {
   "cell_type": "code",
   "execution_count": 18,
   "id": "1e79b87c",
   "metadata": {},
   "outputs": [],
   "source": [
    "A.append(B)"
   ]
  },
  {
   "cell_type": "code",
   "execution_count": 19,
   "id": "91bc9044",
   "metadata": {},
   "outputs": [
    {
     "data": {
      "text/plain": [
       "[1, 2, 3, 11, 22, 33, [11, 22, 33]]"
      ]
     },
     "execution_count": 19,
     "metadata": {},
     "output_type": "execute_result"
    }
   ],
   "source": [
    "A"
   ]
  },
  {
   "cell_type": "code",
   "execution_count": null,
   "id": "73a9b8c1",
   "metadata": {},
   "outputs": [],
   "source": []
  }
 ],
 "metadata": {
  "kernelspec": {
   "display_name": "Python 3 (ipykernel)",
   "language": "python",
   "name": "python3"
  },
  "language_info": {
   "codemirror_mode": {
    "name": "ipython",
    "version": 3
   },
   "file_extension": ".py",
   "mimetype": "text/x-python",
   "name": "python",
   "nbconvert_exporter": "python",
   "pygments_lexer": "ipython3",
   "version": "3.10.6"
  }
 },
 "nbformat": 4,
 "nbformat_minor": 5
}

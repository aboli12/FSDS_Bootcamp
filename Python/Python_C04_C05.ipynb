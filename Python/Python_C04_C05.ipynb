{
 "cells": [
  {
   "cell_type": "code",
   "execution_count": 5,
   "id": "3e9f46dd",
   "metadata": {},
   "outputs": [],
   "source": [
    "A = 1\n",
    "B = 2\n"
   ]
  },
  {
   "cell_type": "code",
   "execution_count": 6,
   "id": "05a38f33",
   "metadata": {},
   "outputs": [
    {
     "data": {
      "text/plain": [
       "2603241924912"
      ]
     },
     "execution_count": 6,
     "metadata": {},
     "output_type": "execute_result"
    }
   ],
   "source": [
    "id(A)"
   ]
  },
  {
   "cell_type": "code",
   "execution_count": 7,
   "id": "6acc87bb",
   "metadata": {},
   "outputs": [
    {
     "data": {
      "text/plain": [
       "2603241924944"
      ]
     },
     "execution_count": 7,
     "metadata": {},
     "output_type": "execute_result"
    }
   ],
   "source": [
    "id(B)"
   ]
  },
  {
   "cell_type": "code",
   "execution_count": 8,
   "id": "ce59ebb9",
   "metadata": {},
   "outputs": [
    {
     "name": "stdout",
     "output_type": "stream",
     "text": [
      "A is not B\n"
     ]
    }
   ],
   "source": [
    "if A is not B:\n",
    "    print(\"A is not B\")"
   ]
  },
  {
   "cell_type": "code",
   "execution_count": 9,
   "id": "41ea42f8",
   "metadata": {},
   "outputs": [
    {
     "data": {
      "text/plain": [
       "False"
      ]
     },
     "execution_count": 9,
     "metadata": {},
     "output_type": "execute_result"
    }
   ],
   "source": [
    "C = \"AHF\"\n",
    "D = \"ahF\"\n",
    "C is D"
   ]
  },
  {
   "cell_type": "code",
   "execution_count": 10,
   "id": "26dad370",
   "metadata": {},
   "outputs": [
    {
     "data": {
      "text/plain": [
       "True"
      ]
     },
     "execution_count": 10,
     "metadata": {},
     "output_type": "execute_result"
    }
   ],
   "source": [
    "C = \"AHF\"\n",
    "D = \"AHF\"\n",
    "C is D"
   ]
  },
  {
   "cell_type": "code",
   "execution_count": 11,
   "id": "a6406306",
   "metadata": {},
   "outputs": [
    {
     "data": {
      "text/plain": [
       "False"
      ]
     },
     "execution_count": 11,
     "metadata": {},
     "output_type": "execute_result"
    }
   ],
   "source": [
    "t1 = (4.8,9,9)\n",
    "t2 = (4.8,9,9)\n",
    "t1 is t2"
   ]
  },
  {
   "cell_type": "code",
   "execution_count": 12,
   "id": "42653260",
   "metadata": {},
   "outputs": [
    {
     "data": {
      "text/plain": [
       "False"
      ]
     },
     "execution_count": 12,
     "metadata": {},
     "output_type": "execute_result"
    }
   ],
   "source": [
    "l1 = [7,0,\"gfgf\"]\n",
    "l2 = [7,0,\"gfgf\"]\n",
    "l1 is l2"
   ]
  },
  {
   "cell_type": "code",
   "execution_count": 13,
   "id": "51f38535",
   "metadata": {},
   "outputs": [
    {
     "data": {
      "text/plain": [
       "2603328639360"
      ]
     },
     "execution_count": 13,
     "metadata": {},
     "output_type": "execute_result"
    }
   ],
   "source": [
    "id(l1)"
   ]
  },
  {
   "cell_type": "code",
   "execution_count": 14,
   "id": "7b921b4e",
   "metadata": {},
   "outputs": [
    {
     "data": {
      "text/plain": [
       "2603328680960"
      ]
     },
     "execution_count": 14,
     "metadata": {},
     "output_type": "execute_result"
    }
   ],
   "source": [
    "id(l2)"
   ]
  },
  {
   "cell_type": "code",
   "execution_count": 15,
   "id": "282e977f",
   "metadata": {},
   "outputs": [
    {
     "data": {
      "text/plain": [
       "True"
      ]
     },
     "execution_count": 15,
     "metadata": {},
     "output_type": "execute_result"
    }
   ],
   "source": [
    "l1 == l2"
   ]
  },
  {
   "cell_type": "code",
   "execution_count": 1,
   "id": "4a808324",
   "metadata": {},
   "outputs": [
    {
     "data": {
      "text/plain": [
       "'HHJ'"
      ]
     },
     "execution_count": 1,
     "metadata": {},
     "output_type": "execute_result"
    }
   ],
   "source": [
    "A = \"HH\"\n",
    "B =\"J\"\n",
    "A+B"
   ]
  },
  {
   "cell_type": "code",
   "execution_count": 2,
   "id": "48564c13",
   "metadata": {},
   "outputs": [
    {
     "ename": "TypeError",
     "evalue": "unsupported operand type(s) for -: 'str' and 'str'",
     "output_type": "error",
     "traceback": [
      "\u001b[1;31m---------------------------------------------------------------------------\u001b[0m",
      "\u001b[1;31mTypeError\u001b[0m                                 Traceback (most recent call last)",
      "Input \u001b[1;32mIn [2]\u001b[0m, in \u001b[0;36m<cell line: 1>\u001b[1;34m()\u001b[0m\n\u001b[1;32m----> 1\u001b[0m \u001b[43mA\u001b[49m\u001b[38;5;241;43m-\u001b[39;49m\u001b[43mB\u001b[49m\n",
      "\u001b[1;31mTypeError\u001b[0m: unsupported operand type(s) for -: 'str' and 'str'"
     ]
    }
   ],
   "source": [
    "A-B"
   ]
  },
  {
   "cell_type": "code",
   "execution_count": 3,
   "id": "554a845a",
   "metadata": {},
   "outputs": [
    {
     "ename": "TypeError",
     "evalue": "can't multiply sequence by non-int of type 'str'",
     "output_type": "error",
     "traceback": [
      "\u001b[1;31m---------------------------------------------------------------------------\u001b[0m",
      "\u001b[1;31mTypeError\u001b[0m                                 Traceback (most recent call last)",
      "Input \u001b[1;32mIn [3]\u001b[0m, in \u001b[0;36m<cell line: 1>\u001b[1;34m()\u001b[0m\n\u001b[1;32m----> 1\u001b[0m \u001b[43mA\u001b[49m\u001b[38;5;241;43m*\u001b[39;49m\u001b[43mB\u001b[49m\n",
      "\u001b[1;31mTypeError\u001b[0m: can't multiply sequence by non-int of type 'str'"
     ]
    }
   ],
   "source": [
    "A*B"
   ]
  },
  {
   "cell_type": "code",
   "execution_count": 4,
   "id": "57120733",
   "metadata": {},
   "outputs": [
    {
     "ename": "TypeError",
     "evalue": "unsupported operand type(s) for /: 'str' and 'str'",
     "output_type": "error",
     "traceback": [
      "\u001b[1;31m---------------------------------------------------------------------------\u001b[0m",
      "\u001b[1;31mTypeError\u001b[0m                                 Traceback (most recent call last)",
      "Input \u001b[1;32mIn [4]\u001b[0m, in \u001b[0;36m<cell line: 1>\u001b[1;34m()\u001b[0m\n\u001b[1;32m----> 1\u001b[0m \u001b[43mA\u001b[49m\u001b[38;5;241;43m/\u001b[39;49m\u001b[43mB\u001b[49m\n",
      "\u001b[1;31mTypeError\u001b[0m: unsupported operand type(s) for /: 'str' and 'str'"
     ]
    }
   ],
   "source": [
    "A/B"
   ]
  },
  {
   "cell_type": "code",
   "execution_count": 5,
   "id": "d5b11252",
   "metadata": {},
   "outputs": [
    {
     "ename": "TypeError",
     "evalue": "unsupported operand type(s) for //: 'str' and 'str'",
     "output_type": "error",
     "traceback": [
      "\u001b[1;31m---------------------------------------------------------------------------\u001b[0m",
      "\u001b[1;31mTypeError\u001b[0m                                 Traceback (most recent call last)",
      "Input \u001b[1;32mIn [5]\u001b[0m, in \u001b[0;36m<cell line: 1>\u001b[1;34m()\u001b[0m\n\u001b[1;32m----> 1\u001b[0m \u001b[43mA\u001b[49m\u001b[38;5;241;43m/\u001b[39;49m\u001b[38;5;241;43m/\u001b[39;49m\u001b[43mB\u001b[49m\n",
      "\u001b[1;31mTypeError\u001b[0m: unsupported operand type(s) for //: 'str' and 'str'"
     ]
    }
   ],
   "source": [
    "A//B"
   ]
  },
  {
   "cell_type": "code",
   "execution_count": 6,
   "id": "43c6f753",
   "metadata": {},
   "outputs": [
    {
     "ename": "NameError",
     "evalue": "name 'a' is not defined",
     "output_type": "error",
     "traceback": [
      "\u001b[1;31m---------------------------------------------------------------------------\u001b[0m",
      "\u001b[1;31mNameError\u001b[0m                                 Traceback (most recent call last)",
      "Input \u001b[1;32mIn [6]\u001b[0m, in \u001b[0;36m<cell line: 1>\u001b[1;34m()\u001b[0m\n\u001b[1;32m----> 1\u001b[0m \u001b[43ma\u001b[49m\u001b[38;5;241m%\u001b[39mB\n",
      "\u001b[1;31mNameError\u001b[0m: name 'a' is not defined"
     ]
    }
   ],
   "source": [
    "a%B"
   ]
  },
  {
   "cell_type": "code",
   "execution_count": 7,
   "id": "82d0d783",
   "metadata": {},
   "outputs": [
    {
     "ename": "TypeError",
     "evalue": "not all arguments converted during string formatting",
     "output_type": "error",
     "traceback": [
      "\u001b[1;31m---------------------------------------------------------------------------\u001b[0m",
      "\u001b[1;31mTypeError\u001b[0m                                 Traceback (most recent call last)",
      "Input \u001b[1;32mIn [7]\u001b[0m, in \u001b[0;36m<cell line: 1>\u001b[1;34m()\u001b[0m\n\u001b[1;32m----> 1\u001b[0m \u001b[43mA\u001b[49m\u001b[38;5;241;43m%\u001b[39;49m\u001b[43mB\u001b[49m\n",
      "\u001b[1;31mTypeError\u001b[0m: not all arguments converted during string formatting"
     ]
    }
   ],
   "source": [
    "A%B\n"
   ]
  },
  {
   "cell_type": "code",
   "execution_count": 8,
   "id": "0458df4e",
   "metadata": {},
   "outputs": [],
   "source": [
    "name = \"CHINMAY\""
   ]
  },
  {
   "cell_type": "code",
   "execution_count": 9,
   "id": "3bd832ec",
   "metadata": {},
   "outputs": [
    {
     "data": {
      "text/plain": [
       "'Y'"
      ]
     },
     "execution_count": 9,
     "metadata": {},
     "output_type": "execute_result"
    }
   ],
   "source": [
    "name[-1]"
   ]
  },
  {
   "cell_type": "code",
   "execution_count": 10,
   "id": "dc76b277",
   "metadata": {},
   "outputs": [
    {
     "data": {
      "text/plain": [
       "'H'"
      ]
     },
     "execution_count": 10,
     "metadata": {},
     "output_type": "execute_result"
    }
   ],
   "source": [
    "name[-6]"
   ]
  },
  {
   "cell_type": "code",
   "execution_count": 11,
   "id": "a40ee963",
   "metadata": {},
   "outputs": [
    {
     "data": {
      "text/plain": [
       "'C'"
      ]
     },
     "execution_count": 11,
     "metadata": {},
     "output_type": "execute_result"
    }
   ],
   "source": [
    "name[-0]"
   ]
  },
  {
   "cell_type": "code",
   "execution_count": 12,
   "id": "aedf8bc1",
   "metadata": {},
   "outputs": [
    {
     "data": {
      "text/plain": [
       "'HINMAY'"
      ]
     },
     "execution_count": 12,
     "metadata": {},
     "output_type": "execute_result"
    }
   ],
   "source": [
    "\n",
    "name[1:]"
   ]
  },
  {
   "cell_type": "code",
   "execution_count": 13,
   "id": "51c97eef",
   "metadata": {},
   "outputs": [
    {
     "data": {
      "text/plain": [
       "'HIN'"
      ]
     },
     "execution_count": 13,
     "metadata": {},
     "output_type": "execute_result"
    }
   ],
   "source": [
    "name[1:4]"
   ]
  },
  {
   "cell_type": "code",
   "execution_count": 14,
   "id": "91d7ce15",
   "metadata": {},
   "outputs": [
    {
     "data": {
      "text/plain": [
       "'Y'"
      ]
     },
     "execution_count": 14,
     "metadata": {},
     "output_type": "execute_result"
    }
   ],
   "source": [
    "name[-1:]"
   ]
  },
  {
   "cell_type": "code",
   "execution_count": 15,
   "id": "f7faf58b",
   "metadata": {},
   "outputs": [
    {
     "data": {
      "text/plain": [
       "'HINMAY'"
      ]
     },
     "execution_count": 15,
     "metadata": {},
     "output_type": "execute_result"
    }
   ],
   "source": [
    "name[1:7]"
   ]
  },
  {
   "cell_type": "code",
   "execution_count": 16,
   "id": "7a1c55e5",
   "metadata": {},
   "outputs": [
    {
     "data": {
      "text/plain": [
       "'HINMAY'"
      ]
     },
     "execution_count": 16,
     "metadata": {},
     "output_type": "execute_result"
    }
   ],
   "source": [
    "name[1:8]"
   ]
  },
  {
   "cell_type": "code",
   "execution_count": 17,
   "id": "48eb03c9",
   "metadata": {},
   "outputs": [
    {
     "data": {
      "text/plain": [
       "'INMA'"
      ]
     },
     "execution_count": 17,
     "metadata": {},
     "output_type": "execute_result"
    }
   ],
   "source": [
    "name[-5:-1]"
   ]
  },
  {
   "cell_type": "code",
   "execution_count": 18,
   "id": "e573ed98",
   "metadata": {},
   "outputs": [
    {
     "data": {
      "text/plain": [
       "''"
      ]
     },
     "execution_count": 18,
     "metadata": {},
     "output_type": "execute_result"
    }
   ],
   "source": [
    "name[-8:0]"
   ]
  },
  {
   "cell_type": "code",
   "execution_count": 19,
   "id": "9769447f",
   "metadata": {},
   "outputs": [
    {
     "data": {
      "text/plain": [
       "'CHINMA'"
      ]
     },
     "execution_count": 19,
     "metadata": {},
     "output_type": "execute_result"
    }
   ],
   "source": [
    "name[-8:-1]"
   ]
  },
  {
   "cell_type": "code",
   "execution_count": 20,
   "id": "2977c3ab",
   "metadata": {},
   "outputs": [],
   "source": [
    "date = \"08/10/2022\""
   ]
  },
  {
   "cell_type": "code",
   "execution_count": 21,
   "id": "48f548c7",
   "metadata": {},
   "outputs": [
    {
     "data": {
      "text/plain": [
       "'0'"
      ]
     },
     "execution_count": 21,
     "metadata": {},
     "output_type": "execute_result"
    }
   ],
   "source": [
    "date[0:1]"
   ]
  },
  {
   "cell_type": "code",
   "execution_count": 22,
   "id": "2da22026",
   "metadata": {},
   "outputs": [
    {
     "data": {
      "text/plain": [
       "'08'"
      ]
     },
     "execution_count": 22,
     "metadata": {},
     "output_type": "execute_result"
    }
   ],
   "source": [
    "date[0:2]"
   ]
  },
  {
   "cell_type": "code",
   "execution_count": 23,
   "id": "80be443b",
   "metadata": {},
   "outputs": [
    {
     "data": {
      "text/plain": [
       "'10'"
      ]
     },
     "execution_count": 23,
     "metadata": {},
     "output_type": "execute_result"
    }
   ],
   "source": [
    "date[3:5]"
   ]
  },
  {
   "cell_type": "code",
   "execution_count": 27,
   "id": "2f945400",
   "metadata": {},
   "outputs": [
    {
     "data": {
      "text/plain": [
       "'2022'"
      ]
     },
     "execution_count": 27,
     "metadata": {},
     "output_type": "execute_result"
    }
   ],
   "source": [
    "date[6:10]"
   ]
  },
  {
   "cell_type": "code",
   "execution_count": 28,
   "id": "fa405c2a",
   "metadata": {},
   "outputs": [
    {
     "data": {
      "text/plain": [
       "'08/10/2022'"
      ]
     },
     "execution_count": 28,
     "metadata": {},
     "output_type": "execute_result"
    }
   ],
   "source": [
    "date[::]"
   ]
  },
  {
   "cell_type": "code",
   "execution_count": 29,
   "id": "48cffeb6",
   "metadata": {},
   "outputs": [
    {
     "data": {
      "text/plain": [
       "'0/022'"
      ]
     },
     "execution_count": 29,
     "metadata": {},
     "output_type": "execute_result"
    }
   ],
   "source": []
  },
  {
   "cell_type": "code",
   "execution_count": 30,
   "id": "fd880917",
   "metadata": {},
   "outputs": [
    {
     "data": {
      "text/plain": [
       "'08/10/2022'"
      ]
     },
     "execution_count": 30,
     "metadata": {},
     "output_type": "execute_result"
    }
   ],
   "source": [
    "date[0::1]"
   ]
  },
  {
   "cell_type": "code",
   "execution_count": 31,
   "id": "ce253669",
   "metadata": {},
   "outputs": [
    {
     "data": {
      "text/plain": [
       "'0/022'"
      ]
     },
     "execution_count": 31,
     "metadata": {},
     "output_type": "execute_result"
    }
   ],
   "source": [
    "date[0::2]"
   ]
  },
  {
   "cell_type": "code",
   "execution_count": 32,
   "id": "314e3ff7",
   "metadata": {},
   "outputs": [
    {
     "data": {
      "text/plain": [
       "'CIMY'"
      ]
     },
     "execution_count": 32,
     "metadata": {},
     "output_type": "execute_result"
    }
   ],
   "source": [
    "name[0::2]"
   ]
  },
  {
   "cell_type": "code",
   "execution_count": 33,
   "id": "4f6e1e99",
   "metadata": {},
   "outputs": [
    {
     "data": {
      "text/plain": [
       "'CHINMAY'"
      ]
     },
     "execution_count": 33,
     "metadata": {},
     "output_type": "execute_result"
    }
   ],
   "source": [
    "name[:]"
   ]
  },
  {
   "cell_type": "code",
   "execution_count": 34,
   "id": "3c87ed5e",
   "metadata": {},
   "outputs": [
    {
     "data": {
      "text/plain": [
       "True"
      ]
     },
     "execution_count": 34,
     "metadata": {},
     "output_type": "execute_result"
    }
   ],
   "source": [
    "data1 = \"radar\"\n",
    "data2 = \"radar\"\n",
    "data1[::1] == data2[::-1]"
   ]
  },
  {
   "cell_type": "code",
   "execution_count": 35,
   "id": "2d1d1c37",
   "metadata": {},
   "outputs": [
    {
     "data": {
      "text/plain": [
       "False"
      ]
     },
     "execution_count": 35,
     "metadata": {},
     "output_type": "execute_result"
    }
   ],
   "source": [
    "data1 = \"radar\"\n",
    "data2 = \"Radar\"\n",
    "data1[::1] == data2[::-1]"
   ]
  },
  {
   "cell_type": "code",
   "execution_count": 36,
   "id": "f293e5a0",
   "metadata": {},
   "outputs": [
    {
     "ename": "TypeError",
     "evalue": "'str' object does not support item assignment",
     "output_type": "error",
     "traceback": [
      "\u001b[1;31m---------------------------------------------------------------------------\u001b[0m",
      "\u001b[1;31mTypeError\u001b[0m                                 Traceback (most recent call last)",
      "Input \u001b[1;32mIn [36]\u001b[0m, in \u001b[0;36m<cell line: 1>\u001b[1;34m()\u001b[0m\n\u001b[1;32m----> 1\u001b[0m data1[\u001b[38;5;241m0\u001b[39m] \u001b[38;5;241m=\u001b[39m \u001b[38;5;124m\"\u001b[39m\u001b[38;5;124mg\u001b[39m\u001b[38;5;124m\"\u001b[39m\n",
      "\u001b[1;31mTypeError\u001b[0m: 'str' object does not support item assignment"
     ]
    }
   ],
   "source": [
    "data1[0] = \"g\""
   ]
  },
  {
   "cell_type": "code",
   "execution_count": 39,
   "id": "bbf40e9a",
   "metadata": {},
   "outputs": [
    {
     "data": {
      "text/plain": [
       "'TINMAY'"
      ]
     },
     "execution_count": 39,
     "metadata": {},
     "output_type": "execute_result"
    }
   ],
   "source": [
    "\"T\" + name[2:]"
   ]
  },
  {
   "cell_type": "code",
   "execution_count": 40,
   "id": "de0edff1",
   "metadata": {},
   "outputs": [
    {
     "data": {
      "text/plain": [
       "'TINMAY'"
      ]
     },
     "execution_count": 40,
     "metadata": {},
     "output_type": "execute_result"
    }
   ],
   "source": [
    "name.replace(\"CH\", \"T\")"
   ]
  },
  {
   "cell_type": "code",
   "execution_count": 41,
   "id": "ada57711",
   "metadata": {},
   "outputs": [
    {
     "data": {
      "text/plain": [
       "7"
      ]
     },
     "execution_count": 41,
     "metadata": {},
     "output_type": "execute_result"
    }
   ],
   "source": [
    "len(name)"
   ]
  },
  {
   "cell_type": "code",
   "execution_count": 42,
   "id": "49de437a",
   "metadata": {},
   "outputs": [
    {
     "ename": "TypeError",
     "evalue": "str.join() takes exactly one argument (2 given)",
     "output_type": "error",
     "traceback": [
      "\u001b[1;31m---------------------------------------------------------------------------\u001b[0m",
      "\u001b[1;31mTypeError\u001b[0m                                 Traceback (most recent call last)",
      "Input \u001b[1;32mIn [42]\u001b[0m, in \u001b[0;36m<cell line: 1>\u001b[1;34m()\u001b[0m\n\u001b[1;32m----> 1\u001b[0m \u001b[38;5;124;43m\"\u001b[39;49m\u001b[38;5;124;43m*\u001b[39;49m\u001b[38;5;124;43m\"\u001b[39;49m\u001b[38;5;241;43m.\u001b[39;49m\u001b[43mjoin\u001b[49m\u001b[43m(\u001b[49m\u001b[38;5;124;43m\"\u001b[39;49m\u001b[38;5;124;43maboli dake\u001b[39;49m\u001b[38;5;124;43m\"\u001b[39;49m\u001b[43m,\u001b[49m\u001b[38;5;124;43m\"\u001b[39;49m\u001b[38;5;124;43m \u001b[39;49m\u001b[38;5;124;43m\"\u001b[39;49m\u001b[43m)\u001b[49m\n",
      "\u001b[1;31mTypeError\u001b[0m: str.join() takes exactly one argument (2 given)"
     ]
    }
   ],
   "source": [
    "\"*\".join(\"aboli dake\",\" \")"
   ]
  },
  {
   "cell_type": "code",
   "execution_count": 43,
   "id": "8b366324",
   "metadata": {},
   "outputs": [
    {
     "data": {
      "text/plain": [
       "'C*H*I*N*M*A*Y'"
      ]
     },
     "execution_count": 43,
     "metadata": {},
     "output_type": "execute_result"
    }
   ],
   "source": [
    "\"*\".join(name)"
   ]
  },
  {
   "cell_type": "code",
   "execution_count": 48,
   "id": "b05d4fc3",
   "metadata": {},
   "outputs": [
    {
     "data": {
      "text/plain": [
       "'Aboli'"
      ]
     },
     "execution_count": 48,
     "metadata": {},
     "output_type": "execute_result"
    }
   ],
   "source": [
    "name1 = \" Aboli \"\n",
    "name1.strip(\" \")"
   ]
  },
  {
   "cell_type": "code",
   "execution_count": 49,
   "id": "dde83be2",
   "metadata": {},
   "outputs": [
    {
     "data": {
      "text/plain": [
       "'Aboli '"
      ]
     },
     "execution_count": 49,
     "metadata": {},
     "output_type": "execute_result"
    }
   ],
   "source": [
    "name1.lstrip(\" \")"
   ]
  },
  {
   "cell_type": "code",
   "execution_count": 50,
   "id": "111c6b70",
   "metadata": {},
   "outputs": [
    {
     "data": {
      "text/plain": [
       "' Aboli'"
      ]
     },
     "execution_count": 50,
     "metadata": {},
     "output_type": "execute_result"
    }
   ],
   "source": [
    "name1.rstrip(\" \")"
   ]
  },
  {
   "cell_type": "code",
   "execution_count": 52,
   "id": "219a0393",
   "metadata": {},
   "outputs": [
    {
     "data": {
      "text/plain": [
       "'******CHINMAY*******'"
      ]
     },
     "execution_count": 52,
     "metadata": {},
     "output_type": "execute_result"
    }
   ],
   "source": [
    "name.center(20, \"*\")"
   ]
  },
  {
   "cell_type": "code",
   "execution_count": 54,
   "id": "ecda01e7",
   "metadata": {},
   "outputs": [
    {
     "data": {
      "text/plain": [
       "'$ Aboli $$'"
      ]
     },
     "execution_count": 54,
     "metadata": {},
     "output_type": "execute_result"
    }
   ],
   "source": [
    "name1.center(10, \"$\")"
   ]
  },
  {
   "cell_type": "code",
   "execution_count": 55,
   "id": "777ffe1c",
   "metadata": {},
   "outputs": [
    {
     "data": {
      "text/plain": [
       "'CHINMAY'"
      ]
     },
     "execution_count": 55,
     "metadata": {},
     "output_type": "execute_result"
    }
   ],
   "source": [
    "name.center(7, \"$\")"
   ]
  },
  {
   "cell_type": "code",
   "execution_count": 56,
   "id": "95d4f264",
   "metadata": {},
   "outputs": [
    {
     "data": {
      "text/plain": [
       "'CHINMAY'"
      ]
     },
     "execution_count": 56,
     "metadata": {},
     "output_type": "execute_result"
    }
   ],
   "source": [
    "name.center(3, \"$\")"
   ]
  },
  {
   "cell_type": "code",
   "execution_count": 58,
   "id": "63f11b9a",
   "metadata": {},
   "outputs": [
    {
     "data": {
      "text/plain": [
       "True"
      ]
     },
     "execution_count": 58,
     "metadata": {},
     "output_type": "execute_result"
    }
   ],
   "source": [
    "name.isupper()"
   ]
  },
  {
   "cell_type": "code",
   "execution_count": 59,
   "id": "e2fc3ee2",
   "metadata": {},
   "outputs": [
    {
     "data": {
      "text/plain": [
       "False"
      ]
     },
     "execution_count": 59,
     "metadata": {},
     "output_type": "execute_result"
    }
   ],
   "source": [
    "name.istitle()"
   ]
  },
  {
   "cell_type": "code",
   "execution_count": 64,
   "id": "625c3149",
   "metadata": {},
   "outputs": [
    {
     "data": {
      "text/plain": [
       "False"
      ]
     },
     "execution_count": 64,
     "metadata": {},
     "output_type": "execute_result"
    }
   ],
   "source": [
    "name1.isspace()"
   ]
  },
  {
   "cell_type": "code",
   "execution_count": 65,
   "id": "ef71258b",
   "metadata": {},
   "outputs": [
    {
     "data": {
      "text/plain": [
       "' Aboli '"
      ]
     },
     "execution_count": 65,
     "metadata": {},
     "output_type": "execute_result"
    }
   ],
   "source": [
    "name1"
   ]
  },
  {
   "cell_type": "code",
   "execution_count": 66,
   "id": "6e85bd00",
   "metadata": {},
   "outputs": [
    {
     "data": {
      "text/plain": [
       "True"
      ]
     },
     "execution_count": 66,
     "metadata": {},
     "output_type": "execute_result"
    }
   ],
   "source": [
    "\" \".isspace()"
   ]
  },
  {
   "cell_type": "code",
   "execution_count": 67,
   "id": "5df80234",
   "metadata": {},
   "outputs": [],
   "source": [
    "da = \"FGHHFGK56756L\""
   ]
  },
  {
   "cell_type": "code",
   "execution_count": 68,
   "id": "a34121f9",
   "metadata": {},
   "outputs": [
    {
     "data": {
      "text/plain": [
       "True"
      ]
     },
     "execution_count": 68,
     "metadata": {},
     "output_type": "execute_result"
    }
   ],
   "source": [
    "da.isalnum()"
   ]
  },
  {
   "cell_type": "code",
   "execution_count": null,
   "id": "322f0a1e",
   "metadata": {},
   "outputs": [],
   "source": []
  }
 ],
 "metadata": {
  "kernelspec": {
   "display_name": "Python 3 (ipykernel)",
   "language": "python",
   "name": "python3"
  },
  "language_info": {
   "codemirror_mode": {
    "name": "ipython",
    "version": 3
   },
   "file_extension": ".py",
   "mimetype": "text/x-python",
   "name": "python",
   "nbconvert_exporter": "python",
   "pygments_lexer": "ipython3",
   "version": "3.9.12"
  }
 },
 "nbformat": 4,
 "nbformat_minor": 5
}

{
 "cells": [
  {
   "cell_type": "code",
   "execution_count": 3,
   "id": "8badc14e",
   "metadata": {},
   "outputs": [],
   "source": [
    "import keyword"
   ]
  },
  {
   "cell_type": "markdown",
   "id": "68c8ac4d",
   "metadata": {},
   "source": [
    "#### 1.Find out all the types of error that we have encountered in our lecture and why? Also include the examples."
   ]
  },
  {
   "cell_type": "code",
   "execution_count": 25,
   "id": "93e1e50a",
   "metadata": {},
   "outputs": [
    {
     "name": "stdout",
     "output_type": "stream",
     "text": [
      "\n",
      "1. ValueError: invalid literal for int() with base 10: '22.4' -> String float can not be directly converted to int\n",
      "2. name 'Ten' is not defined -> python is case-sensitive language\n",
      "3. 'str' object is not callable, 'int' object is not callable -> we should not use reserved keywords as variable names\n",
      "4. unsupported operand type(s) for -: 'int' and 'str' -> user input taken is always in string format, can not be used as int without typecasting\n",
      "5. SyntaxError: invalid syntax -> not valid python syntax\n",
      "\n"
     ]
    }
   ],
   "source": [
    "print(\"\"\"\n",
    "1. ValueError: invalid literal for int() with base 10: '22.4' -> String float can not be directly converted to int\n",
    "2. name 'Ten' is not defined -> python is case-sensitive language\n",
    "3. 'str' object is not callable, 'int' object is not callable -> we should not use reserved keywords as variable names\n",
    "4. unsupported operand type(s) for -: 'int' and 'str' -> user input taken is always in string format, can not be used as int without typecasting\n",
    "5. SyntaxError: invalid syntax -> not valid python syntax\n",
    "\"\"\")"
   ]
  },
  {
   "cell_type": "markdown",
   "id": "26dda659",
   "metadata": {},
   "source": [
    "#### 2. Take input A and B and print their sum, mul, div, square of the nos.\n"
   ]
  },
  {
   "cell_type": "code",
   "execution_count": 2,
   "id": "49074f98",
   "metadata": {},
   "outputs": [
    {
     "name": "stdout",
     "output_type": "stream",
     "text": [
      "sum : 50\n",
      "mul : 600\n",
      "div : 0.6666666666666666\n",
      "squares : 400,900\n"
     ]
    }
   ],
   "source": [
    "A = 20\n",
    "B = 30\n",
    "print(f\"sum : {A + B}\")\n",
    "print(f\"mul : {A * B}\")\n",
    "print(f\"div : {A / B}\")\n",
    "print(f\"squares : {A*A},{B*B}\")"
   ]
  },
  {
   "cell_type": "markdown",
   "id": "bf6bd651",
   "metadata": {},
   "source": [
    "#### 3.How many reserve keywords are there in python and why we should not use them as a variable name."
   ]
  },
  {
   "cell_type": "code",
   "execution_count": 8,
   "id": "00493f83",
   "metadata": {},
   "outputs": [
    {
     "name": "stdout",
     "output_type": "stream",
     "text": [
      "* There are 36 in Python. \n",
      "\n",
      "* They are ['False', 'None', 'True', '__peg_parser__', 'and', 'as', 'assert', 'async', 'await', 'break', 'class', 'continue', 'def', 'del', 'elif', 'else', 'except', 'finally', 'for', 'from', 'global', 'if', 'import', 'in', 'is', 'lambda', 'nonlocal', 'not', 'or', 'pass', 'raise', 'return', 'try', 'while', 'with', 'yield']. \n",
      "\n",
      "* It is bad practice to use reserved keywords as variable names. \n",
      "If used the built in functionality for these keywords will be overridden\n"
     ]
    }
   ],
   "source": [
    "print(f\"\"\"* There are {len(keyword.kwlist)} in Python. \n",
    "\\n* They are {(keyword.kwlist)}. \n",
    "\\n* It is bad practice to use reserved keywords as variable names. \n",
    "If used the built in functionality for these keywords will be overridden\"\"\")"
   ]
  },
  {
   "cell_type": "markdown",
   "id": "ea05c3e1",
   "metadata": {},
   "source": [
    "#### 4.Create email ids with the user inputs. in the following format - \n",
    "lastname.firstname@gmail.com"
   ]
  },
  {
   "cell_type": "code",
   "execution_count": 10,
   "id": "2a604844",
   "metadata": {},
   "outputs": [
    {
     "name": "stdout",
     "output_type": "stream",
     "text": [
      "Enter first name : Aboli\n",
      "Enter last name : Shelke\n",
      "Email : aboli.shelke@gmail.com\n"
     ]
    }
   ],
   "source": [
    "firstname = input(\"Enter first name : \")\n",
    "lastname = input(\"Enter last name : \")\n",
    "print(f\"Email : {firstname.lower()}.{lastname.lower()}@gmail.com\")"
   ]
  },
  {
   "cell_type": "markdown",
   "id": "10bcc60c",
   "metadata": {},
   "source": [
    "#### 5.Try to print the following lines - \n",
    "  - Hi I'm Sunny\n",
    "  - My address is 22\\3 \n",
    "  - I earn 20$ daily."
   ]
  },
  {
   "cell_type": "code",
   "execution_count": 11,
   "id": "cf3351a9",
   "metadata": {},
   "outputs": [
    {
     "name": "stdout",
     "output_type": "stream",
     "text": [
      "Enter name : Sunny\n",
      "Enter address : 22\\3\n",
      "Enter daily wage : 20\n",
      "\n",
      "Hi I'm Sunny\n",
      "My address is 22\\3\n",
      "I earn 20$ daily\n",
      "\n"
     ]
    }
   ],
   "source": [
    "name = input(\"Enter name : \")\n",
    "address = input(\"Enter address : \")\n",
    "wage = int(input(\"Enter daily wage : \"))\n",
    "print(f\"\"\"\n",
    "Hi I'm {name}\n",
    "My address is {address}\n",
    "I earn {wage}$ daily\n",
    "\"\"\")"
   ]
  },
  {
   "cell_type": "markdown",
   "id": "257c13bd",
   "metadata": {},
   "source": [
    "#### 6.Take user input (name, address, date of birth etc) to fill a form for your college and print their email IDs"
   ]
  },
  {
   "cell_type": "code",
   "execution_count": 12,
   "id": "3c727cea",
   "metadata": {},
   "outputs": [
    {
     "name": "stdout",
     "output_type": "stream",
     "text": [
      "Enter first name : Aboli\n",
      "Enter last name : Shelke\n",
      "Enter address : C-1903, Espacio \n",
      "Enter DOB : 01-01-1994\n",
      "Email : aboli.shelke@gmail.com\n"
     ]
    }
   ],
   "source": [
    "firstname = input(\"Enter first name : \")\n",
    "lastname = input(\"Enter last name : \")\n",
    "address = input(\"Enter address : \")\n",
    "DOB = input(\"Enter DOB : \")\n",
    "print(f\"Email : {firstname.lower()}.{lastname.lower()}@gmail.com\")"
   ]
  },
  {
   "cell_type": "markdown",
   "id": "bb3a8822",
   "metadata": {},
   "source": [
    "#### 7.Convert the following - \n",
    "  - \"22.4\" into integer\n",
    "  - \"22\" into complex no"
   ]
  },
  {
   "cell_type": "code",
   "execution_count": 17,
   "id": "e14b7233",
   "metadata": {},
   "outputs": [
    {
     "data": {
      "text/plain": [
       "22"
      ]
     },
     "execution_count": 17,
     "metadata": {},
     "output_type": "execute_result"
    }
   ],
   "source": [
    "f = \"22.4\"\n",
    "\n",
    "int(float(f))"
   ]
  },
  {
   "cell_type": "code",
   "execution_count": 18,
   "id": "c2a1e58a",
   "metadata": {},
   "outputs": [
    {
     "data": {
      "text/plain": [
       "(22+0j)"
      ]
     },
     "execution_count": 18,
     "metadata": {},
     "output_type": "execute_result"
    }
   ],
   "source": [
    "i = \"22\"\n",
    "complex(i)"
   ]
  },
  {
   "cell_type": "code",
   "execution_count": null,
   "id": "b6df51c0",
   "metadata": {},
   "outputs": [],
   "source": []
  }
 ],
 "metadata": {
  "kernelspec": {
   "display_name": "Python 3 (ipykernel)",
   "language": "python",
   "name": "python3"
  },
  "language_info": {
   "codemirror_mode": {
    "name": "ipython",
    "version": 3
   },
   "file_extension": ".py",
   "mimetype": "text/x-python",
   "name": "python",
   "nbconvert_exporter": "python",
   "pygments_lexer": "ipython3",
   "version": "3.9.12"
  }
 },
 "nbformat": 4,
 "nbformat_minor": 5
}

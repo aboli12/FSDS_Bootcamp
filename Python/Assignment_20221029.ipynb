{
 "cells": [
  {
   "cell_type": "markdown",
   "id": "4fe7183a",
   "metadata": {},
   "source": [
    "1. write a function which will try to find out len of a string without using an in-built len function"
   ]
  },
  {
   "cell_type": "markdown",
   "id": "2d23efc5",
   "metadata": {},
   "source": []
  },
  {
   "cell_type": "markdown",
   "id": "297e9136",
   "metadata": {},
   "source": [
    "2.write a function which will be able to print an index of list element without using index function"
   ]
  },
  {
   "cell_type": "code",
   "execution_count": null,
   "id": "6e4855d0",
   "metadata": {},
   "outputs": [],
   "source": []
  },
  {
   "cell_type": "markdown",
   "id": "3c394076",
   "metadata": {},
   "source": [
    "3. write a function which will be able to print an ip address of your system"
   ]
  },
  {
   "cell_type": "code",
   "execution_count": null,
   "id": "1270ca25",
   "metadata": {},
   "outputs": [],
   "source": []
  },
  {
   "cell_type": "markdown",
   "id": "db2b912b",
   "metadata": {},
   "source": [
    "4.write a function which will shutdown your system"
   ]
  },
  {
   "cell_type": "code",
   "execution_count": null,
   "id": "552c5e4d",
   "metadata": {},
   "outputs": [],
   "source": []
  },
  {
   "cell_type": "markdown",
   "id": "7b704821",
   "metadata": {},
   "source": [
    "5. write a function which will take input as a list of any kind of numeric value and give an output as multiplication of all the numeric data l = [3.5, 6.56, 4, 5, \"sudh\", \"ineuron\", \"fsds bootcamp 2.0\"]"
   ]
  },
  {
   "cell_type": "code",
   "execution_count": null,
   "id": "f6cd263d",
   "metadata": {},
   "outputs": [],
   "source": []
  },
  {
   "cell_type": "markdown",
   "id": "af728b1d",
   "metadata": {},
   "source": [
    "6.write a function which will be able to read all the emails"
   ]
  },
  {
   "cell_type": "code",
   "execution_count": null,
   "id": "f485819d",
   "metadata": {},
   "outputs": [],
   "source": []
  },
  {
   "cell_type": "markdown",
   "id": "4d630d37",
   "metadata": {},
   "source": [
    "7.write a function which will be send an email to anyone"
   ]
  },
  {
   "cell_type": "code",
   "execution_count": null,
   "id": "4dfd3354",
   "metadata": {},
   "outputs": [],
   "source": []
  },
  {
   "cell_type": "markdown",
   "id": "de0e4124",
   "metadata": {},
   "source": [
    "8.write a function which will be able to read a doc/word file from your system"
   ]
  },
  {
   "cell_type": "markdown",
   "id": "bb031d8c",
   "metadata": {},
   "source": []
  }
 ],
 "metadata": {
  "kernelspec": {
   "display_name": "Python 3 (ipykernel)",
   "language": "python",
   "name": "python3"
  },
  "language_info": {
   "codemirror_mode": {
    "name": "ipython",
    "version": 3
   },
   "file_extension": ".py",
   "mimetype": "text/x-python",
   "name": "python",
   "nbconvert_exporter": "python",
   "pygments_lexer": "ipython3",
   "version": "3.9.12"
  }
 },
 "nbformat": 4,
 "nbformat_minor": 5
}

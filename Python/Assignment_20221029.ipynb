{
 "cells": [
  {
   "cell_type": "markdown",
   "id": "4fe7183a",
   "metadata": {},
   "source": [
    "1. write a function which will try to find out len of a string without using an in-built len function"
   ]
  },
  {
   "cell_type": "code",
   "execution_count": 10,
   "id": "43259c9f",
   "metadata": {},
   "outputs": [],
   "source": [
    "def count_of_string(input_string):\n",
    "    \"\"\"\n",
    "    This function gives the length of string without inbuilt length function\n",
    "    \"\"\"\n",
    "    count = 0\n",
    "    for i in input_string:\n",
    "        count += 1\n",
    "    return count"
   ]
  },
  {
   "cell_type": "code",
   "execution_count": 11,
   "id": "81732904",
   "metadata": {},
   "outputs": [
    {
     "data": {
      "text/plain": [
       "26"
      ]
     },
     "execution_count": 11,
     "metadata": {},
     "output_type": "execute_result"
    }
   ],
   "source": [
    "count_of_string('ajfhwdh  wedljhwdf   wfjwf')"
   ]
  },
  {
   "cell_type": "markdown",
   "id": "297e9136",
   "metadata": {},
   "source": [
    "2. write a function which will be able to print an index of list element without using index function"
   ]
  },
  {
   "cell_type": "code",
   "execution_count": 24,
   "id": "6e4855d0",
   "metadata": {},
   "outputs": [],
   "source": [
    "l = [5,6,8,9,56,90]\n",
    "index = 0\n",
    "def print_index(a):\n",
    "    \"\"\"\n",
    "    prints the index without index function\n",
    "    \"\"\"\n",
    "    count = 0\n",
    "    for i in l:\n",
    "        if i == a:\n",
    "            index = count\n",
    "        count += 1\n",
    "    return index"
   ]
  },
  {
   "cell_type": "code",
   "execution_count": 25,
   "id": "f6bf2b6e",
   "metadata": {},
   "outputs": [
    {
     "data": {
      "text/plain": [
       "5"
      ]
     },
     "execution_count": 25,
     "metadata": {},
     "output_type": "execute_result"
    }
   ],
   "source": [
    "print_index(90)"
   ]
  },
  {
   "cell_type": "markdown",
   "id": "3c394076",
   "metadata": {},
   "source": [
    "3. write a function which will be able to print an ip address of your system"
   ]
  },
  {
   "cell_type": "code",
   "execution_count": 3,
   "id": "1270ca25",
   "metadata": {},
   "outputs": [],
   "source": [
    "import socket\n",
    "def get_ip_address():\n",
    "    \"\"\"\n",
    "    prints the ip address of system\n",
    "    \"\"\"\n",
    "    hostname = socket.gethostname()\n",
    "    IPAddr = socket.gethostbyname(hostname)\n",
    "    print('IP Address is: ' + IPAddr)"
   ]
  },
  {
   "cell_type": "code",
   "execution_count": 4,
   "id": "108a9819",
   "metadata": {},
   "outputs": [
    {
     "name": "stdout",
     "output_type": "stream",
     "text": [
      "IP Address is: 192.168.0.90\n"
     ]
    }
   ],
   "source": [
    "get_ip_address()"
   ]
  },
  {
   "cell_type": "markdown",
   "id": "db2b912b",
   "metadata": {},
   "source": [
    "4. write a function which will shutdown your system"
   ]
  },
  {
   "cell_type": "code",
   "execution_count": 1,
   "id": "552c5e4d",
   "metadata": {},
   "outputs": [],
   "source": [
    "import os\n",
    "def shutdown_pc():\n",
    "    \"\"\"\n",
    "    shuts down your system\n",
    "    \"\"\"\n",
    "    shutdown = input(\"Do you wish to shutdown your computer ? (yes / no): \")\n",
    "\n",
    "    if shutdown == 'no':\n",
    "        exit()\n",
    "    else:\n",
    "        os.system(\"shutdown /s /t 1\")"
   ]
  },
  {
   "cell_type": "markdown",
   "id": "7b704821",
   "metadata": {},
   "source": [
    "5. write a function which will take input as a list of any kind of numeric value and give an output as multiplication of all the numeric data l = [3.5, 6.56, 4, 5, \"sudh\", \"ineuron\", \"fsds bootcamp 2.0\"]"
   ]
  },
  {
   "cell_type": "code",
   "execution_count": 25,
   "id": "f6cd263d",
   "metadata": {},
   "outputs": [],
   "source": [
    "\n",
    "def print_index(l):\n",
    "    \"\"\"\n",
    "    prints the index without index function\n",
    "    \"\"\"\n",
    "    res = 1\n",
    "    for i in l:\n",
    "        if isinstance(i, (int, float)):\n",
    "            res = res * i\n",
    "    return round(res,2)"
   ]
  },
  {
   "cell_type": "code",
   "execution_count": 26,
   "id": "bbb360b7",
   "metadata": {},
   "outputs": [
    {
     "data": {
      "text/plain": [
       "459.2"
      ]
     },
     "execution_count": 26,
     "metadata": {},
     "output_type": "execute_result"
    }
   ],
   "source": [
    "l = [3.5, 6.56, 4, 5, 'sudh', 'ineuron', 'fsds bootcamp 2.0']\n",
    "print_index(l)"
   ]
  },
  {
   "cell_type": "markdown",
   "id": "af728b1d",
   "metadata": {},
   "source": [
    "6. write a function which will be able to read all the emails"
   ]
  },
  {
   "cell_type": "code",
   "execution_count": 8,
   "id": "f485819d",
   "metadata": {},
   "outputs": [
    {
     "name": "stdout",
     "output_type": "stream",
     "text": [
      "From : Google <no-reply@accounts.google.com>\n",
      "\n",
      "Subject : Security alert\n",
      "\n",
      "From : Team Jio <important@mailer.jio.com>\n",
      "\n",
      "Subject : Protect yourself from fraud\n",
      "\n",
      "From : =?UTF-8?B?U2ltcGw=?= <simpl.information@simpl-mails.com>\n",
      "\n",
      "Subject : =?UTF-8?B?TGV04oCZcyBzbmFjayBvbiB0aGlzIFJzLjMwMCBjYXNoYmFjayE=?=\n",
      "\n",
      "From : Kotak Bank <retailproducts@kotak.in>\n",
      "\n",
      "Subject : Stop worrying about late bill payments. Register for Kotak BillPay!\n",
      "\n",
      "From : \"=?utf-8?Q?Zivame?=\" <help@zivmailer.com>\n",
      "\n",
      "Subject : =?utf-8?Q?Just=20in=20time=20for=20Payday!=20=F0=9F=9B=8D=EF=B8=8F=F0=9F=A4=A9?=\n",
      "\n",
      "From : Tata CLiQ <TataCLiQ@em.tatacliq.com>\n",
      "\n",
      "Subject : Three Bags To Own & Flaunt This Season\n",
      "\n",
      "From : Kotak Smart EMI <retailproducts@mail.kotak.in>\n",
      "\n",
      "Subject : =?UTF-8?Q?Our_favourite_family_is_BACK!_=F0=9F=A5=B3?=\n",
      "\n",
      "From : Nykaa Fashion <newsletter@nykaafashion.com>\n",
      "\n",
      "Subject : =?UTF-8?Q?=F0=9F=98=8E_Styles_for_every_destination_=E2=9C=88=EF=B8=8F?=\n",
      "\n",
      "From : Dunzo <DONOTREPLY@dunzo.in>\n",
      "\n",
      "Subject : Calculations say that you'll save 40%\n",
      "\n",
      "From : PhonePe <noreply@phonepe.com>\n",
      "\n",
      "Subject : Answering most-asked investment questions!\n",
      "\n",
      "From : Prime Video <no-reply@primevideo.com>\n",
      "\n",
      "Subject : Aboli, join Prime at 50% off!\n",
      "\n",
      "From : Bloglovin' <info@bloglovin.com>\n",
      "\n",
      "Subject : Cosmic Tattoos, Best Teeth Whitening Pens, LightWater Skin Nutrition &\n",
      " More!!\n",
      "\n",
      "From : Kotak Bank <retailproducts@kotak.in>\n",
      "\n",
      "Subject : Dear Aboli Shelke, your Investment Account is only a few clicks\n",
      " away\n",
      "\n",
      "From : ICICI Prudential Mutual Fund <info@service.icicipruamc.com>\n",
      "\n",
      "Subject : Celebrate World Savings Day\n",
      "\n",
      "From : Apple <News@InsideApple.Apple.com>\n",
      "\n",
      "Subject : Check out the new iPad and iPad Pro. Now available.\n",
      "\n",
      "From : \"Facebook Birthdays\" <birthdays@facebookmail.com>\n",
      "\n",
      "Subject : =?UTF-8?B?8J+OgiBJdCdzIFNod2V0YSBS?=\n",
      " =?UTF-8?B?YW5kaXZlJ3MgYmlydGhk?=\n",
      " =?UTF-8?B?YXkgdG9kYXk=?=\n",
      "\n",
      "From : support@turing.jp\n",
      "\n",
      "Subject : chinmay.s077@gmail.com recommends you for remote U.S Software Jobs at\n",
      " Turing.com\n",
      "\n",
      "From : \"PGIM India Mutual Fund\" <noreply@info.pgimindiamf.in>\n",
      "\n",
      "Subject : Set your investments on auto pilot mode. PGIM India Balanced Advantage Fund offers the best of both worlds\n",
      "\n",
      "From : Kotak Credit Card <retailproducts@mail.kotak.in>\n",
      "\n",
      "Subject : =?UTF-8?Q?Earn_up_to_8x_reward_points_on_your_shopping_spree_=F0=9F=98=8D?=\n",
      "\n",
      "From : Amazon Pay India <no-reply@amazonpay.in>\n",
      "\n",
      "Subject : Your monthly reward points for using Amazon Pay ICICI Bank credit\n",
      " card added to your Amazon Pay balance\n",
      "\n",
      "From : \"ICICI Bank\" <services@custcomm.icicibank.com>\n",
      "\n",
      "Subject : Aboli Balasaheb Dake, Increase your Credit Limit to Rs.290000 instantly\n",
      "\n"
     ]
    },
    {
     "ename": "NameError",
     "evalue": "name 'traceback' is not defined",
     "output_type": "error",
     "traceback": [
      "\u001b[1;31m---------------------------------------------------------------------------\u001b[0m",
      "\u001b[1;31mUnicodeDecodeError\u001b[0m                        Traceback (most recent call last)",
      "Input \u001b[1;32mIn [8]\u001b[0m, in \u001b[0;36mread_email_from_gmail\u001b[1;34m()\u001b[0m\n\u001b[0;32m     28\u001b[0m \u001b[38;5;28;01mif\u001b[39;00m \u001b[38;5;28misinstance\u001b[39m(arr, \u001b[38;5;28mtuple\u001b[39m):\n\u001b[1;32m---> 29\u001b[0m     msg \u001b[38;5;241m=\u001b[39m email\u001b[38;5;241m.\u001b[39mmessage_from_string(\u001b[38;5;28;43mstr\u001b[39;49m\u001b[43m(\u001b[49m\u001b[43marr\u001b[49m\u001b[43m[\u001b[49m\u001b[38;5;241;43m1\u001b[39;49m\u001b[43m]\u001b[49m\u001b[43m,\u001b[49m\u001b[38;5;124;43m'\u001b[39;49m\u001b[38;5;124;43mutf-8\u001b[39;49m\u001b[38;5;124;43m'\u001b[39;49m\u001b[43m)\u001b[49m)\n\u001b[0;32m     30\u001b[0m     email_subject \u001b[38;5;241m=\u001b[39m msg[\u001b[38;5;124m'\u001b[39m\u001b[38;5;124msubject\u001b[39m\u001b[38;5;124m'\u001b[39m]\n",
      "\u001b[1;31mUnicodeDecodeError\u001b[0m: 'utf-8' codec can't decode byte 0xff in position 5575: invalid start byte",
      "\nDuring handling of the above exception, another exception occurred:\n",
      "\u001b[1;31mNameError\u001b[0m                                 Traceback (most recent call last)",
      "Input \u001b[1;32mIn [8]\u001b[0m, in \u001b[0;36m<cell line: 39>\u001b[1;34m()\u001b[0m\n\u001b[0;32m     36\u001b[0m         traceback\u001b[38;5;241m.\u001b[39mprint_exc() \n\u001b[0;32m     37\u001b[0m         \u001b[38;5;28mprint\u001b[39m(\u001b[38;5;28mstr\u001b[39m(e))\n\u001b[1;32m---> 39\u001b[0m \u001b[43mread_email_from_gmail\u001b[49m\u001b[43m(\u001b[49m\u001b[43m)\u001b[49m\n",
      "Input \u001b[1;32mIn [8]\u001b[0m, in \u001b[0;36mread_email_from_gmail\u001b[1;34m()\u001b[0m\n\u001b[0;32m     33\u001b[0m                 \u001b[38;5;28mprint\u001b[39m(\u001b[38;5;124m'\u001b[39m\u001b[38;5;124mSubject : \u001b[39m\u001b[38;5;124m'\u001b[39m \u001b[38;5;241m+\u001b[39m email_subject \u001b[38;5;241m+\u001b[39m \u001b[38;5;124m'\u001b[39m\u001b[38;5;130;01m\\n\u001b[39;00m\u001b[38;5;124m'\u001b[39m)\n\u001b[0;32m     35\u001b[0m \u001b[38;5;28;01mexcept\u001b[39;00m \u001b[38;5;167;01mException\u001b[39;00m \u001b[38;5;28;01mas\u001b[39;00m e:\n\u001b[1;32m---> 36\u001b[0m     \u001b[43mtraceback\u001b[49m\u001b[38;5;241m.\u001b[39mprint_exc() \n\u001b[0;32m     37\u001b[0m     \u001b[38;5;28mprint\u001b[39m(\u001b[38;5;28mstr\u001b[39m(e))\n",
      "\u001b[1;31mNameError\u001b[0m: name 'traceback' is not defined"
     ]
    }
   ],
   "source": [
    "\n",
    "import smtplib\n",
    "import time\n",
    "import imaplib\n",
    "import email\n",
    "ORG_EMAIL = \"@gmail.com\" \n",
    "FROM_EMAIL = 'dakeaboli@gmail.com'\n",
    "FROM_PWD = 'qfovzaemrzgroyly'\n",
    "SMTP_SERVER = \"imap.gmail.com\" \n",
    "SMTP_PORT = 993\n",
    "imaplib._MAXLINE = 400000000\n",
    "\n",
    "def read_email_from_gmail():\n",
    "    try:\n",
    "        mail = imaplib.IMAP4_SSL(SMTP_SERVER)\n",
    "        mail.login(FROM_EMAIL,FROM_PWD)\n",
    "        mail.select('inbox')\n",
    "\n",
    "        data = mail.search(None, 'ALL')\n",
    "        mail_ids = data[1]\n",
    "        id_list = mail_ids[0].split()   \n",
    "        first_email_id = int(id_list[0])\n",
    "        latest_email_id = int(id_list[-1])\n",
    "\n",
    "        for i in range(latest_email_id,first_email_id, -1):\n",
    "            data = mail.fetch(str(i), '(RFC822)' )\n",
    "            for response_part in data:\n",
    "                arr = response_part[0]\n",
    "                if isinstance(arr, tuple):\n",
    "                    msg = email.message_from_string(str(arr[1],'utf-8'))\n",
    "                    email_subject = msg['subject']\n",
    "                    email_from = msg['from']\n",
    "                    print('From : ' + email_from + '\\n')\n",
    "                    print('Subject : ' + email_subject + '\\n')\n",
    "\n",
    "    except Exception as e:\n",
    "        traceback.print_exc() \n",
    "        print(str(e))\n",
    "\n",
    "read_email_from_gmail()"
   ]
  },
  {
   "cell_type": "markdown",
   "id": "4d630d37",
   "metadata": {},
   "source": [
    "7. write a function which will be send an email to anyone"
   ]
  },
  {
   "cell_type": "code",
   "execution_count": 7,
   "id": "4dfd3354",
   "metadata": {},
   "outputs": [],
   "source": [
    "import smtplib, ssl\n",
    "port = 465\n",
    "smtp_server = \"smtp.gmail.com\"\n",
    "sender_email = \"dakeaboli@gmail.com\"\n",
    "receiver_email = \"shelke.aboli7@gmail.com\"\n",
    "password = 'qfovzaemrzgroyly'\n",
    "message = \"\"\"this is my message from python code \"\"\"\n",
    "\n",
    "context = ssl.create_default_context()\n",
    "with smtplib.SMTP_SSL(smtp_server, port, context=context) as server:\n",
    "    server.login(sender_email, password)\n",
    "    server.sendmail(sender_email, receiver_email, message)"
   ]
  },
  {
   "cell_type": "markdown",
   "id": "de0e4124",
   "metadata": {},
   "source": [
    "8. write a function which will be able to read a doc/word file from your system"
   ]
  },
  {
   "cell_type": "code",
   "execution_count": 2,
   "id": "3fcaa7bd",
   "metadata": {},
   "outputs": [],
   "source": [
    "import docx2txt\n",
    "def read_docx():\n",
    "    \"\"\"\n",
    "    prints content of docx file\n",
    "    \"\"\"\n",
    "    my_text = docx2txt.process(\"test.docx\")\n",
    "    print(my_text)"
   ]
  },
  {
   "cell_type": "code",
   "execution_count": 3,
   "id": "2aee0a56",
   "metadata": {},
   "outputs": [
    {
     "name": "stdout",
     "output_type": "stream",
     "text": [
      "Hi\n",
      "\n",
      "This is test docx file\n"
     ]
    }
   ],
   "source": [
    "read_docx()"
   ]
  },
  {
   "cell_type": "code",
   "execution_count": null,
   "id": "c3434517",
   "metadata": {},
   "outputs": [],
   "source": []
  }
 ],
 "metadata": {
  "kernelspec": {
   "display_name": "Python (aboli_fsds)",
   "language": "python",
   "name": "aboli_fsds"
  },
  "language_info": {
   "codemirror_mode": {
    "name": "ipython",
    "version": 3
   },
   "file_extension": ".py",
   "mimetype": "text/x-python",
   "name": "python",
   "nbconvert_exporter": "python",
   "pygments_lexer": "ipython3",
   "version": "3.10.6"
  }
 },
 "nbformat": 4,
 "nbformat_minor": 5
}
